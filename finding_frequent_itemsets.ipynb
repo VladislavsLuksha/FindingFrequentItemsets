{
  "cells": [
    {
      "cell_type": "markdown",
      "metadata": {
        "id": "view-in-github",
        "colab_type": "text"
      },
      "source": [
        "<a href=\"https://colab.research.google.com/github/VladislavsLuksha/FindingFrequentItemsets/blob/main/finding_frequent_itemsets.ipynb\" target=\"_parent\"><img src=\"https://colab.research.google.com/assets/colab-badge.svg\" alt=\"Open In Colab\"/></a>"
      ]
    },
    {
      "cell_type": "markdown",
      "metadata": {
        "id": "9T3bV_cHvTmf"
      },
      "source": [
        "#####Finding frequent itemsets \n",
        "Uladzislau Luksha\n",
        "964000"
      ]
    },
    {
      "cell_type": "markdown",
      "metadata": {
        "id": "NojCjYf9g6_L"
      },
      "source": [
        "## Loading Kaggle Dataset "
      ]
    },
    {
      "cell_type": "code",
      "execution_count": null,
      "metadata": {
        "colab": {
          "base_uri": "https://localhost:8080/"
        },
        "id": "tD5EvHn1BOml",
        "outputId": "6521aa87-d5b8-4439-b41f-83ef6e5d0bc2"
      },
      "outputs": [
        {
          "output_type": "stream",
          "name": "stdout",
          "text": [
            "Looking in indexes: https://pypi.org/simple, https://us-python.pkg.dev/colab-wheels/public/simple/\n",
            "Requirement already satisfied: kaggle in /usr/local/lib/python3.8/dist-packages (1.5.12)\n",
            "Requirement already satisfied: python-slugify in /usr/local/lib/python3.8/dist-packages (from kaggle) (7.0.0)\n",
            "Requirement already satisfied: certifi in /usr/local/lib/python3.8/dist-packages (from kaggle) (2022.9.24)\n",
            "Requirement already satisfied: six>=1.10 in /usr/local/lib/python3.8/dist-packages (from kaggle) (1.15.0)\n",
            "Requirement already satisfied: tqdm in /usr/local/lib/python3.8/dist-packages (from kaggle) (4.64.1)\n",
            "Requirement already satisfied: urllib3 in /usr/local/lib/python3.8/dist-packages (from kaggle) (1.24.3)\n",
            "Requirement already satisfied: python-dateutil in /usr/local/lib/python3.8/dist-packages (from kaggle) (2.8.2)\n",
            "Requirement already satisfied: requests in /usr/local/lib/python3.8/dist-packages (from kaggle) (2.23.0)\n",
            "Requirement already satisfied: text-unidecode>=1.3 in /usr/local/lib/python3.8/dist-packages (from python-slugify->kaggle) (1.3)\n",
            "Requirement already satisfied: chardet<4,>=3.0.2 in /usr/local/lib/python3.8/dist-packages (from requests->kaggle) (3.0.4)\n",
            "Requirement already satisfied: idna<3,>=2.5 in /usr/local/lib/python3.8/dist-packages (from requests->kaggle) (2.10)\n",
            "Downloading ukraine-russian-crisis-twitter-dataset-1-2-m-rows.zip to /content\n",
            "100% 13.2G/13.2G [01:24<00:00, 220MB/s]\n",
            "100% 13.2G/13.2G [01:24<00:00, 169MB/s]\n"
          ]
        }
      ],
      "source": [
        "#installing Kaggle library and loading the dataset\n",
        "! pip install kaggle\n",
        "! mkdir ~/.kaggle\n",
        "import   os  \n",
        "os.environ[\"KAGGLE_USERNAME\"] = 'vladislavluksha'\n",
        "os.environ[\"KAGGLE_KEY\"] = 'b83964b8d0ecb107548fb4c099ee4d94'\n",
        "\n",
        "!kaggle datasets download -d bwandowando/ukraine-russian-crisis-twitter-dataset-1-2-m-rows"
      ]
    },
    {
      "cell_type": "code",
      "execution_count": null,
      "metadata": {
        "colab": {
          "base_uri": "https://localhost:8080/"
        },
        "id": "827kRKopEFuU",
        "outputId": "47d0fcb3-1a65-4830-9663-43adee053250"
      },
      "outputs": [
        {
          "output_type": "stream",
          "name": "stdout",
          "text": [
            "Archive:  ukraine-russian-crisis-twitter-dataset-1-2-m-rows.zip\n",
            "  inflating: 0819_UkraineCombinedTweetsDeduped.csv.gzip  \n",
            "  inflating: 0820_UkraineCombinedTweetsDeduped.csv.gzip  \n",
            "  inflating: 0821_UkraineCombinedTweetsDeduped.csv.gzip  \n",
            "  inflating: 0822_UkraineCombinedTweetsDeduped.csv.gzip  \n",
            "  inflating: 0823_UkraineCombinedTweetsDeduped.csv.gzip  \n",
            "  inflating: 0824_UkraineCombinedTweetsDeduped.csv.gzip  \n",
            "  inflating: 0825_UkraineCombinedTweetsDeduped.csv.gzip  \n",
            "  inflating: 0826_UkraineCombinedTweetsDeduped.csv.gzip  \n",
            "  inflating: 0827_UkraineCombinedTweetsDeduped.csv.gzip  \n",
            "  inflating: 0828_UkraineCombinedTweetsDeduped.csv.gzip  \n",
            "  inflating: 0829_UkraineCombinedTweetsDeduped.csv.gzip  \n",
            "  inflating: 0830_UkraineCombinedTweetsDeduped.csv.gzip  \n",
            "  inflating: 0831_UkraineCombinedTweetsDeduped.csv.gzip  \n",
            "  inflating: 0901_UkraineCombinedTweetsDeduped.csv.gzip  \n",
            "  inflating: 0902_UkraineCombinedTweetsDeduped.csv.gzip  \n",
            "  inflating: 0903_UkraineCombinedTweetsDeduped.csv.gzip  \n",
            "  inflating: 0904_UkraineCombinedTweetsDeduped.csv.gzip  \n",
            "  inflating: 0905_UkraineCombinedTweetsDeduped.csv.gzip  \n",
            "  inflating: 0906_UkraineCombinedTweetsDeduped.csv.gzip  \n",
            "  inflating: 0907_UkraineCombinedTweetsDeduped.csv.gzip  \n",
            "  inflating: 0908_UkraineCombinedTweetsDeduped.csv.gzip  \n",
            "  inflating: 0909_UkraineCombinedTweetsDeduped.csv.gzip  \n",
            "  inflating: 0910_UkraineCombinedTweetsDeduped.csv.gzip  \n",
            "  inflating: 0911_UkraineCombinedTweetsDeduped.csv.gzip  \n",
            "  inflating: 0912_UkraineCombinedTweetsDeduped.csv.gzip  \n",
            "  inflating: 0913_UkraineCombinedTweetsDeduped.csv.gzip  \n",
            "  inflating: 0914_UkraineCombinedTweetsDeduped.csv.gzip  \n",
            "  inflating: 0915_UkraineCombinedTweetsDeduped.csv.gzip  \n",
            "  inflating: 0916_UkraineCombinedTweetsDeduped.csv.gzip  \n",
            "  inflating: 0917_UkraineCombinedTweetsDeduped.csv.gzip  \n",
            "  inflating: 0918_UkraineCombinedTweetsDeduped.csv.gzip  \n",
            "  inflating: 0919_UkraineCombinedTweetsDeduped.csv.gzip  \n",
            "  inflating: 0920_UkraineCombinedTweetsDeduped.csv.gzip  \n",
            "  inflating: 0921_UkraineCombinedTweetsDeduped.csv.gzip  \n",
            "  inflating: 0922_UkraineCombinedTweetsDeduped.csv.gzip  \n",
            "  inflating: 0923_UkraineCombinedTweetsDeduped.csv.gzip  \n",
            "  inflating: 0924_UkraineCombinedTweetsDeduped.csv.gzip  \n",
            "  inflating: 0925_UkraineCombinedTweetsDeduped.csv.gzip  \n",
            "  inflating: 0926_UkraineCombinedTweetsDeduped.csv.gzip  \n",
            "  inflating: 0927_UkraineCombinedTweetsDeduped.csv.gzip  \n",
            "  inflating: 0928_UkraineCombinedTweetsDeduped.csv.gzip  \n",
            "  inflating: 0929_UkraineCombinedTweetsDeduped.csv.gzip  \n",
            "  inflating: 0930_UkraineCombinedTweetsDeduped.csv.gzip  \n",
            "  inflating: 1001_UkraineCombinedTweetsDeduped.csv.gzip  \n",
            "  inflating: 1002_UkraineCombinedTweetsDeduped.csv.gzip  \n",
            "  inflating: 1003_UkraineCombinedTweetsDeduped.csv.gzip  \n",
            "  inflating: 1004_UkraineCombinedTweetsDeduped.csv.gzip  \n",
            "  inflating: 1005_UkraineCombinedTweetsDeduped.csv.gzip  \n",
            "  inflating: 1006_UkraineCombinedTweetsDeduped.csv.gzip  \n",
            "  inflating: 1007_UkraineCombinedTweetsDeduped.csv.gzip  \n",
            "  inflating: 1008_UkraineCombinedTweetsDeduped.csv.gzip  \n",
            "  inflating: 1009_UkraineCombinedTweetsDeduped.csv.gzip  \n",
            "  inflating: 1010_UkraineCombinedTweetsDeduped.csv.gzip  \n",
            "  inflating: 1011_UkraineCombinedTweetsDeduped.csv.gzip  \n",
            "  inflating: 1012_UkraineCombinedTweetsDeduped.csv.gzip  \n",
            "  inflating: 1013_UkraineCombinedTweetsDeduped.csv.gzip  \n",
            "  inflating: 1014_UkraineCombinedTweetsDeduped.csv.gzip  \n",
            "  inflating: 1015_UkraineCombinedTweetsDeduped.csv.gzip  \n",
            "  inflating: 1016_UkraineCombinedTweetsDeduped.csv.gzip  \n",
            "  inflating: 1017_UkraineCombinedTweetsDeduped.csv.gzip  \n",
            "  inflating: 1018_UkraineCombinedTweetsDeduped.csv.gzip  \n",
            "  inflating: 1019_UkraineCombinedTweetsDeduped.csv.gzip  \n",
            "  inflating: 1020_UkraineCombinedTweetsDeduped.csv.gzip  \n",
            "  inflating: 1021_UkraineCombinedTweetsDeduped.csv.gzip  \n",
            "  inflating: 1022_UkraineCombinedTweetsDeduped.csv.gzip  \n",
            "  inflating: 1023_UkraineCombinedTweetsDeduped.csv.gzip  \n",
            "  inflating: 1024_UkraineCombinedTweetsDeduped.csv.gzip  \n",
            "  inflating: 1025_UkraineCombinedTweetsDeduped.csv.gzip  \n",
            "  inflating: 1026_UkraineCombinedTweetsDeduped.csv.gzip  \n",
            "  inflating: 1027_UkraineCombinedTweetsDeduped.csv.gzip  \n",
            "  inflating: 1028_UkraineCombinedTweetsDeduped.csv.gzip  \n",
            "  inflating: 1029_UkraineCombinedTweetsDeduped.csv.gzip  \n",
            "  inflating: 1030_UkraineCombinedTweetsDeduped.csv.gzip  \n",
            "  inflating: 1031_UkraineCombinedTweetsDeduped.csv.gzip  \n",
            "  inflating: 1101_UkraineCombinedTweetsDeduped.csv.gzip  \n",
            "  inflating: 1102_UkraineCombinedTweetsDeduped.csv.gzip  \n",
            "  inflating: 1103_UkraineCombinedTweetsDeduped.csv.gzip  \n",
            "  inflating: 1104_UkraineCombinedTweetsDeduped.csv.gzip  \n",
            "  inflating: 1105_UkraineCombinedTweetsDeduped.csv.gzip  \n",
            "  inflating: 1106_UkraineCombinedTweetsDeduped.csv.gzip  \n",
            "  inflating: 1107_UkraineCombinedTweetsDeduped.csv.gzip  \n",
            "  inflating: 1108_UkraineCombinedTweetsDeduped.csv.gzip  \n",
            "  inflating: 1109_UkraineCombinedTweetsDeduped.csv.gzip  \n",
            "  inflating: 1110_UkraineCombinedTweetsDeduped.csv.gzip  \n",
            "  inflating: 1111_UkraineCombinedTweetsDeduped.csv.gzip  \n",
            "  inflating: 1112_UkraineCombinedTweetsDeduped.csv.gzip  \n",
            "  inflating: 1113_UkraineCombinedTweetsDeduped.csv.gzip  \n",
            "  inflating: 1114_UkraineCombinedTweetsDeduped.csv.gzip  \n",
            "  inflating: 1115_UkraineCombinedTweetsDeduped.csv.gzip  \n",
            "  inflating: 1116_UkraineCombinedTweetsDeduped.csv.gzip  \n",
            "  inflating: 1117_UkraineCombinedTweetsDeduped.csv.gzip  \n",
            "  inflating: 1118_UkraineCombinedTweetsDeduped.csv.gzip  \n",
            "  inflating: 1119_UkraineCombinedTweetsDeduped.csv.gzip  \n",
            "  inflating: 1120_UkraineCombinedTweetsDeduped.csv.gzip  \n",
            "  inflating: 1121_UkraineCombinedTweetsDeduped.csv.gzip  \n",
            "  inflating: 1122_UkraineCombinedTweetsDeduped.csv.gzip  \n",
            "  inflating: 1123_UkraineCombinedTweetsDeduped.csv.gzip  \n",
            "  inflating: 1124_UkraineCombinedTweetsDeduped.csv.gzip  \n",
            "  inflating: 1125_UkraineCombinedTweetsDeduped.csv.gzip  \n",
            "  inflating: 1126_UkraineCombinedTweetsDeduped.csv.gzip  \n",
            "  inflating: 1127_UkraineCombinedTweetsDeduped.csv.gzip  \n",
            "  inflating: 1128_UkraineCombinedTweetsDeduped.csv.gzip  \n",
            "  inflating: 1129_UkraineCombinedTweetsDeduped.csv.gzip  \n",
            "  inflating: 1130_UkraineCombinedTweetsDeduped.csv.gzip  \n",
            "  inflating: 1201_UkraineCombinedTweetsDeduped.csv.gzip  \n",
            "  inflating: 1202_UkraineCombinedTweetsDeduped.csv.gzip  \n",
            "  inflating: 1203_UkraineCombinedTweetsDeduped.csv.gzip  \n",
            "  inflating: 1204_UkraineCombinedTweetsDeduped.csv.gzip  \n",
            "  inflating: 1205_UkraineCombinedTweetsDeduped.csv.gzip  \n",
            "  inflating: 1206_UkraineCombinedTweetsDeduped.csv.gzip  \n",
            "  inflating: 1207_UkraineCombinedTweetsDeduped.csv.gzip  \n",
            "  inflating: 1208_UkraineCombinedTweetsDeduped.csv.gzip  \n",
            "  inflating: 1209_UkraineCombinedTweetsDeduped.csv.gzip  \n",
            "  inflating: 1210_UkraineCombinedTweetsDeduped.csv.gzip  \n",
            "  inflating: 1211_UkraineCombinedTweetsDeduped.csv.gzip  \n",
            "  inflating: 1212_UkraineCombinedTweetsDeduped.csv.gzip  \n",
            "  inflating: 1213_UkraineCombinedTweetsDeduped.csv.gzip  \n",
            "  inflating: 1214_UkraineCombinedTweetsDeduped.csv.gzip  \n",
            "  inflating: UkraineWar/UkraineWar/0401_UkraineCombinedTweetsDeduped.csv.gzip  \n",
            "  inflating: UkraineWar/UkraineWar/0402_UkraineCombinedTweetsDeduped.csv.gzip  \n",
            "  inflating: UkraineWar/UkraineWar/0403_UkraineCombinedTweetsDeduped.csv.gzip  \n",
            "  inflating: UkraineWar/UkraineWar/0404_UkraineCombinedTweetsDeduped.csv.gzip  \n",
            "  inflating: UkraineWar/UkraineWar/0405_UkraineCombinedTweetsDeduped.csv.gzip  \n",
            "  inflating: UkraineWar/UkraineWar/0406_UkraineCombinedTweetsDeduped.csv.gzip  \n",
            "  inflating: UkraineWar/UkraineWar/0407_UkraineCombinedTweetsDeduped.csv.gzip  \n",
            "  inflating: UkraineWar/UkraineWar/0408_UkraineCombinedTweetsDeduped.csv.gzip  \n",
            "  inflating: UkraineWar/UkraineWar/0409_UkraineCombinedTweetsDeduped.csv.gzip  \n",
            "  inflating: UkraineWar/UkraineWar/0410_UkraineCombinedTweetsDeduped.csv.gzip  \n",
            "  inflating: UkraineWar/UkraineWar/0411_UkraineCombinedTweetsDeduped.csv.gzip  \n",
            "  inflating: UkraineWar/UkraineWar/0412_UkraineCombinedTweetsDeduped.csv.gzip  \n",
            "  inflating: UkraineWar/UkraineWar/0413_UkraineCombinedTweetsDeduped.csv.gzip  \n",
            "  inflating: UkraineWar/UkraineWar/0414_UkraineCombinedTweetsDeduped.csv.gzip  \n",
            "  inflating: UkraineWar/UkraineWar/0415_UkraineCombinedTweetsDeduped.csv.gzip  \n",
            "  inflating: UkraineWar/UkraineWar/0416_UkraineCombinedTweetsDeduped.csv.gzip  \n",
            "  inflating: UkraineWar/UkraineWar/0417_UkraineCombinedTweetsDeduped.csv.gzip  \n",
            "  inflating: UkraineWar/UkraineWar/0418_UkraineCombinedTweetsDeduped.csv.gzip  \n",
            "  inflating: UkraineWar/UkraineWar/0419_UkraineCombinedTweetsDeduped.csv.gzip  \n",
            "  inflating: UkraineWar/UkraineWar/0420_UkraineCombinedTweetsDeduped.csv.gzip  \n",
            "  inflating: UkraineWar/UkraineWar/0421_UkraineCombinedTweetsDeduped.csv.gzip  \n",
            "  inflating: UkraineWar/UkraineWar/0422_UkraineCombinedTweetsDeduped.csv.gzip  \n",
            "  inflating: UkraineWar/UkraineWar/0423_UkraineCombinedTweetsDeduped.csv.gzip  \n",
            "  inflating: UkraineWar/UkraineWar/0424_UkraineCombinedTweetsDeduped.csv.gzip  \n",
            "  inflating: UkraineWar/UkraineWar/0425_UkraineCombinedTweetsDeduped.csv.gzip  \n",
            "  inflating: UkraineWar/UkraineWar/0426_UkraineCombinedTweetsDeduped.csv.gzip  \n",
            "  inflating: UkraineWar/UkraineWar/0427_UkraineCombinedTweetsDeduped.csv.gzip  \n",
            "  inflating: UkraineWar/UkraineWar/0428_UkraineCombinedTweetsDeduped.csv.gzip  \n",
            "  inflating: UkraineWar/UkraineWar/0429_UkraineCombinedTweetsDeduped.csv.gzip  \n",
            "  inflating: UkraineWar/UkraineWar/0430_UkraineCombinedTweetsDeduped.csv.gzip  \n",
            "  inflating: UkraineWar/UkraineWar/0501_UkraineCombinedTweetsDeduped.csv.gzip  \n",
            "  inflating: UkraineWar/UkraineWar/0502_UkraineCombinedTweetsDeduped.csv.gzip  \n",
            "  inflating: UkraineWar/UkraineWar/0503_UkraineCombinedTweetsDeduped.csv.gzip  \n",
            "  inflating: UkraineWar/UkraineWar/0504_UkraineCombinedTweetsDeduped.csv.gzip  \n",
            "  inflating: UkraineWar/UkraineWar/0505_to_0507_UkraineCombinedTweetsDeduped.csv.gzip  \n",
            "  inflating: UkraineWar/UkraineWar/0508_UkraineCombinedTweetsDeduped.csv.gzip  \n",
            "  inflating: UkraineWar/UkraineWar/0509_UkraineCombinedTweetsDeduped.csv.gzip  \n",
            "  inflating: UkraineWar/UkraineWar/0510_UkraineCombinedTweetsDeduped.csv.gzip  \n",
            "  inflating: UkraineWar/UkraineWar/0511_UkraineCombinedTweetsDeduped.csv.gzip  \n",
            "  inflating: UkraineWar/UkraineWar/0512_UkraineCombinedTweetsDeduped.csv.gzip  \n",
            "  inflating: UkraineWar/UkraineWar/0513_UkraineCombinedTweetsDeduped.csv.gzip  \n",
            "  inflating: UkraineWar/UkraineWar/0514_UkraineCombinedTweetsDeduped.csv.gzip  \n",
            "  inflating: UkraineWar/UkraineWar/0515_UkraineCombinedTweetsDeduped.csv.gzip  \n",
            "  inflating: UkraineWar/UkraineWar/0516_UkraineCombinedTweetsDeduped.csv.gzip  \n",
            "  inflating: UkraineWar/UkraineWar/0517_UkraineCombinedTweetsDeduped.csv.gzip  \n",
            "  inflating: UkraineWar/UkraineWar/0518_UkraineCombinedTweetsDeduped.csv.gzip  \n",
            "  inflating: UkraineWar/UkraineWar/0519_UkraineCombinedTweetsDeduped.csv.gzip  \n",
            "  inflating: UkraineWar/UkraineWar/0520_UkraineCombinedTweetsDeduped.csv.gzip  \n",
            "  inflating: UkraineWar/UkraineWar/0521_UkraineCombinedTweetsDeduped.csv.gzip  \n",
            "  inflating: UkraineWar/UkraineWar/0522_UkraineCombinedTweetsDeduped.csv.gzip  \n",
            "  inflating: UkraineWar/UkraineWar/0523_UkraineCombinedTweetsDeduped.csv.gzip  \n",
            "  inflating: UkraineWar/UkraineWar/0524_UkraineCombinedTweetsDeduped.csv.gzip  \n",
            "  inflating: UkraineWar/UkraineWar/0525_UkraineCombinedTweetsDeduped.csv.gzip  \n",
            "  inflating: UkraineWar/UkraineWar/0526_UkraineCombinedTweetsDeduped.csv.gzip  \n",
            "  inflating: UkraineWar/UkraineWar/0527_UkraineCombinedTweetsDeduped.csv.gzip  \n",
            "  inflating: UkraineWar/UkraineWar/0528_UkraineCombinedTweetsDeduped.csv.gzip  \n",
            "  inflating: UkraineWar/UkraineWar/0529_UkraineCombinedTweetsDeduped.csv.gzip  \n",
            "  inflating: UkraineWar/UkraineWar/0530_UkraineCombinedTweetsDeduped.csv.gzip  \n",
            "  inflating: UkraineWar/UkraineWar/0531_UkraineCombinedTweetsDeduped.csv.gzip  \n",
            "  inflating: UkraineWar/UkraineWar/0601_UkraineCombinedTweetsDeduped.csv.gzip  \n",
            "  inflating: UkraineWar/UkraineWar/0602_UkraineCombinedTweetsDeduped.csv.gzip  \n",
            "  inflating: UkraineWar/UkraineWar/0603_UkraineCombinedTweetsDeduped.csv.gzip  \n",
            "  inflating: UkraineWar/UkraineWar/0604_UkraineCombinedTweetsDeduped.csv.gzip  \n",
            "  inflating: UkraineWar/UkraineWar/0605_UkraineCombinedTweetsDeduped.csv.gzip  \n",
            "  inflating: UkraineWar/UkraineWar/0606_to_08_UkraineCombinedTweetsDeduped.csv.gzip  \n",
            "  inflating: UkraineWar/UkraineWar/0609_UkraineCombinedTweetsDeduped.csv.gzip  \n",
            "  inflating: UkraineWar/UkraineWar/0610_UkraineCombinedTweetsDeduped.csv.gzip  \n",
            "  inflating: UkraineWar/UkraineWar/0611_UkraineCombinedTweetsDeduped.csv.gzip  \n",
            "  inflating: UkraineWar/UkraineWar/0612_UkraineCombinedTweetsDeduped.csv.gzip  \n",
            "  inflating: UkraineWar/UkraineWar/0613_UkraineCombinedTweetsDeduped.csv.gzip  \n",
            "  inflating: UkraineWar/UkraineWar/0614_UkraineCombinedTweetsDeduped.csv.gzip  \n",
            "  inflating: UkraineWar/UkraineWar/0615_UkraineCombinedTweetsDeduped.csv.gzip  \n",
            "  inflating: UkraineWar/UkraineWar/0616_UkraineCombinedTweetsDeduped.csv.gzip  \n",
            "  inflating: UkraineWar/UkraineWar/0617_UkraineCombinedTweetsDeduped.csv.gzip  \n",
            "  inflating: UkraineWar/UkraineWar/0618_UkraineCombinedTweetsDeduped.csv.gzip  \n",
            "  inflating: UkraineWar/UkraineWar/0619_UkraineCombinedTweetsDeduped.csv.gzip  \n",
            "  inflating: UkraineWar/UkraineWar/0620_UkraineCombinedTweetsDeduped.csv.gzip  \n",
            "  inflating: UkraineWar/UkraineWar/0621_UkraineCombinedTweetsDeduped.csv.gzip  \n",
            "  inflating: UkraineWar/UkraineWar/0622_UkraineCombinedTweetsDeduped.csv.gzip  \n",
            "  inflating: UkraineWar/UkraineWar/0623_UkraineCombinedTweetsDeduped.csv.gzip  \n",
            "  inflating: UkraineWar/UkraineWar/0624_UkraineCombinedTweetsDeduped.csv.gzip  \n",
            "  inflating: UkraineWar/UkraineWar/0625_UkraineCombinedTweetsDeduped.csv.gzip  \n",
            "  inflating: UkraineWar/UkraineWar/0626_UkraineCombinedTweetsDeduped.csv.gzip  \n",
            "  inflating: UkraineWar/UkraineWar/0627_UkraineCombinedTweetsDeduped.csv.gzip  \n",
            "  inflating: UkraineWar/UkraineWar/0628_UkraineCombinedTweetsDeduped.csv.gzip  \n",
            "  inflating: UkraineWar/UkraineWar/0629_UkraineCombinedTweetsDeduped.csv.gzip  \n",
            "  inflating: UkraineWar/UkraineWar/0630_UkraineCombinedTweetsDeduped.csv.gzip  \n",
            "  inflating: UkraineWar/UkraineWar/0701_UkraineCombinedTweetsDeduped.csv.gzip  \n",
            "  inflating: UkraineWar/UkraineWar/0702_UkraineCombinedTweetsDeduped.csv.gzip  \n",
            "  inflating: UkraineWar/UkraineWar/0703_UkraineCombinedTweetsDeduped.csv.gzip  \n",
            "  inflating: UkraineWar/UkraineWar/0704_UkraineCombinedTweetsDeduped.csv.gzip  \n",
            "  inflating: UkraineWar/UkraineWar/0705_UkraineCombinedTweetsDeduped.csv.gzip  \n",
            "  inflating: UkraineWar/UkraineWar/0706_UkraineCombinedTweetsDeduped.csv.gzip  \n",
            "  inflating: UkraineWar/UkraineWar/0707_UkraineCombinedTweetsDeduped.csv.gzip  \n",
            "  inflating: UkraineWar/UkraineWar/0708_UkraineCombinedTweetsDeduped.csv.gzip  \n",
            "  inflating: UkraineWar/UkraineWar/0709_UkraineCombinedTweetsDeduped.csv.gzip  \n",
            "  inflating: UkraineWar/UkraineWar/0710_UkraineCombinedTweetsDeduped.csv.gzip  \n",
            "  inflating: UkraineWar/UkraineWar/0711_UkraineCombinedTweetsDeduped.csv.gzip  \n",
            "  inflating: UkraineWar/UkraineWar/0712_UkraineCombinedTweetsDeduped.csv.gzip  \n",
            "  inflating: UkraineWar/UkraineWar/0713_UkraineCombinedTweetsDeduped.csv.gzip  \n",
            "  inflating: UkraineWar/UkraineWar/0714_UkraineCombinedTweetsDeduped.csv.gzip  \n",
            "  inflating: UkraineWar/UkraineWar/0715_UkraineCombinedTweetsDeduped.csv.gzip  \n",
            "  inflating: UkraineWar/UkraineWar/0716_UkraineCombinedTweetsDeduped.csv.gzip  \n",
            "  inflating: UkraineWar/UkraineWar/0717_UkraineCombinedTweetsDeduped.csv.gzip  \n",
            "  inflating: UkraineWar/UkraineWar/0718_UkraineCombinedTweetsDeduped.csv.gzip  \n",
            "  inflating: UkraineWar/UkraineWar/0719_UkraineCombinedTweetsDeduped.csv.gzip  \n",
            "  inflating: UkraineWar/UkraineWar/0720_UkraineCombinedTweetsDeduped.csv.gzip  \n",
            "  inflating: UkraineWar/UkraineWar/0721_UkraineCombinedTweetsDeduped.csv.gzip  \n",
            "  inflating: UkraineWar/UkraineWar/0722_UkraineCombinedTweetsDeduped.csv.gzip  \n",
            "  inflating: UkraineWar/UkraineWar/0723_UkraineCombinedTweetsDeduped.csv.gzip  \n",
            "  inflating: UkraineWar/UkraineWar/0724_UkraineCombinedTweetsDeduped.csv.gzip  \n",
            "  inflating: UkraineWar/UkraineWar/0725_UkraineCombinedTweetsDeduped.csv.gzip  \n",
            "  inflating: UkraineWar/UkraineWar/0726_UkraineCombinedTweetsDeduped.csv.gzip  \n",
            "  inflating: UkraineWar/UkraineWar/0727_UkraineCombinedTweetsDeduped.csv.gzip  \n",
            "  inflating: UkraineWar/UkraineWar/0728_UkraineCombinedTweetsDeduped.csv.gzip  \n",
            "  inflating: UkraineWar/UkraineWar/0729_UkraineCombinedTweetsDeduped.csv.gzip  \n",
            "  inflating: UkraineWar/UkraineWar/0730_UkraineCombinedTweetsDeduped.csv.gzip  \n",
            "  inflating: UkraineWar/UkraineWar/0731_UkraineCombinedTweetsDeduped.csv.gzip  \n",
            "  inflating: UkraineWar/UkraineWar/0801_UkraineCombinedTweetsDeduped.csv.gzip  \n",
            "  inflating: UkraineWar/UkraineWar/0802_UkraineCombinedTweetsDeduped.csv.gzip  \n",
            "  inflating: UkraineWar/UkraineWar/0803_UkraineCombinedTweetsDeduped.csv.gzip  \n",
            "  inflating: UkraineWar/UkraineWar/0804_UkraineCombinedTweetsDeduped.csv.gzip  \n",
            "  inflating: UkraineWar/UkraineWar/0805_UkraineCombinedTweetsDeduped.csv.gzip  \n",
            "  inflating: UkraineWar/UkraineWar/0806_UkraineCombinedTweetsDeduped.csv.gzip  \n",
            "  inflating: UkraineWar/UkraineWar/0807_UkraineCombinedTweetsDeduped.csv.gzip  \n",
            "  inflating: UkraineWar/UkraineWar/0808_UkraineCombinedTweetsDeduped.csv.gzip  \n",
            "  inflating: UkraineWar/UkraineWar/0809_UkraineCombinedTweetsDeduped.csv.gzip  \n",
            "  inflating: UkraineWar/UkraineWar/0810_UkraineCombinedTweetsDeduped.csv.gzip  \n",
            "  inflating: UkraineWar/UkraineWar/0811_UkraineCombinedTweetsDeduped.csv.gzip  \n",
            "  inflating: UkraineWar/UkraineWar/0812_UkraineCombinedTweetsDeduped.csv.gzip  \n",
            "  inflating: UkraineWar/UkraineWar/0813_UkraineCombinedTweetsDeduped.csv.gzip  \n",
            "  inflating: UkraineWar/UkraineWar/0814_UkraineCombinedTweetsDeduped.csv.gzip  \n",
            "  inflating: UkraineWar/UkraineWar/0815_UkraineCombinedTweetsDeduped.csv.gzip  \n",
            "  inflating: UkraineWar/UkraineWar/0816_UkraineCombinedTweetsDeduped.csv.gzip  \n",
            "  inflating: UkraineWar/UkraineWar/0817_UkraineCombinedTweetsDeduped.csv.gzip  \n",
            "  inflating: UkraineWar/UkraineWar/0818_UkraineCombinedTweetsDeduped.csv.gzip  \n",
            "  inflating: UkraineWar/UkraineWar/UkraineCombinedTweetsDeduped20220227-131611.csv.gzip  \n",
            "  inflating: UkraineWar/UkraineWar/UkraineCombinedTweetsDeduped_FEB27.csv.gzip  \n",
            "  inflating: UkraineWar/UkraineWar/UkraineCombinedTweetsDeduped_FEB28_part1.csv.gzip  \n",
            "  inflating: UkraineWar/UkraineWar/UkraineCombinedTweetsDeduped_FEB28_part2.csv.gzip  \n",
            "  inflating: UkraineWar/UkraineWar/UkraineCombinedTweetsDeduped_MAR01.csv.gzip  \n",
            "  inflating: UkraineWar/UkraineWar/UkraineCombinedTweetsDeduped_MAR02.csv.gzip  \n",
            "  inflating: UkraineWar/UkraineWar/UkraineCombinedTweetsDeduped_MAR03.csv.gzip  \n",
            "  inflating: UkraineWar/UkraineWar/UkraineCombinedTweetsDeduped_MAR04.csv.gzip  \n",
            "  inflating: UkraineWar/UkraineWar/UkraineCombinedTweetsDeduped_MAR05.csv.gzip  \n",
            "  inflating: UkraineWar/UkraineWar/UkraineCombinedTweetsDeduped_MAR06.csv.gzip  \n",
            "  inflating: UkraineWar/UkraineWar/UkraineCombinedTweetsDeduped_MAR07.csv.gzip  \n",
            "  inflating: UkraineWar/UkraineWar/UkraineCombinedTweetsDeduped_MAR08.csv.gzip  \n",
            "  inflating: UkraineWar/UkraineWar/UkraineCombinedTweetsDeduped_MAR09.csv.gzip  \n",
            "  inflating: UkraineWar/UkraineWar/UkraineCombinedTweetsDeduped_MAR10.csv.gzip  \n",
            "  inflating: UkraineWar/UkraineWar/UkraineCombinedTweetsDeduped_MAR11.csv.gzip  \n",
            "  inflating: UkraineWar/UkraineWar/UkraineCombinedTweetsDeduped_MAR12.csv.gzip  \n",
            "  inflating: UkraineWar/UkraineWar/UkraineCombinedTweetsDeduped_MAR13.csv.gzip  \n",
            "  inflating: UkraineWar/UkraineWar/UkraineCombinedTweetsDeduped_MAR14.csv.gzip  \n",
            "  inflating: UkraineWar/UkraineWar/UkraineCombinedTweetsDeduped_MAR15.csv.gzip  \n",
            "  inflating: UkraineWar/UkraineWar/UkraineCombinedTweetsDeduped_MAR16.csv.gzip  \n",
            "  inflating: UkraineWar/UkraineWar/UkraineCombinedTweetsDeduped_MAR17.csv.gzip  \n",
            "  inflating: UkraineWar/UkraineWar/UkraineCombinedTweetsDeduped_MAR18.csv.gzip  \n",
            "  inflating: UkraineWar/UkraineWar/UkraineCombinedTweetsDeduped_MAR19.csv.gzip  \n",
            "  inflating: UkraineWar/UkraineWar/UkraineCombinedTweetsDeduped_MAR20.csv.gzip  \n",
            "  inflating: UkraineWar/UkraineWar/UkraineCombinedTweetsDeduped_MAR21.csv.gzip  \n",
            "  inflating: UkraineWar/UkraineWar/UkraineCombinedTweetsDeduped_MAR22.csv.gzip  \n",
            "  inflating: UkraineWar/UkraineWar/UkraineCombinedTweetsDeduped_MAR23.csv.gzip  \n",
            "  inflating: UkraineWar/UkraineWar/UkraineCombinedTweetsDeduped_MAR24.csv.gzip  \n",
            "  inflating: UkraineWar/UkraineWar/UkraineCombinedTweetsDeduped_MAR25.csv.gzip  \n",
            "  inflating: UkraineWar/UkraineWar/UkraineCombinedTweetsDeduped_MAR26.csv.gzip  \n",
            "  inflating: UkraineWar/UkraineWar/UkraineCombinedTweetsDeduped_MAR27_to_28.csv.gzip  \n",
            "  inflating: UkraineWar/UkraineWar/UkraineCombinedTweetsDeduped_MAR29.csv.gzip  \n",
            "  inflating: UkraineWar/UkraineWar/UkraineCombinedTweetsDeduped_MAR30.csv.gzip  \n",
            "  inflating: UkraineWar/UkraineWar/UkraineCombinedTweetsDeduped_MAR31.csv.gzip  \n"
          ]
        }
      ],
      "source": [
        "#Unzipping all individual files from the dataset\n",
        "!unzip ukraine-russian-crisis-twitter-dataset-1-2-m-rows\n"
      ]
    },
    {
      "cell_type": "code",
      "execution_count": null,
      "metadata": {
        "colab": {
          "base_uri": "https://localhost:8080/"
        },
        "id": "M0eajWX4sfXk",
        "outputId": "539ebf6d-962b-45ca-b23c-cb482b67bd2a"
      },
      "outputs": [
        {
          "output_type": "stream",
          "name": "stdout",
          "text": [
            "Looking in indexes: https://pypi.org/simple, https://us-python.pkg.dev/colab-wheels/public/simple/\n",
            "Requirement already satisfied: pyspark in /usr/local/lib/python3.8/dist-packages (3.3.1)\n",
            "Requirement already satisfied: py4j==0.10.9.5 in /usr/local/lib/python3.8/dist-packages (from pyspark) (0.10.9.5)\n"
          ]
        }
      ],
      "source": [
        "# installing and importing pyspark and other libraries\n",
        "!pip install pyspark\n",
        "from pyspark import SparkConf, SparkContext\n",
        "from pyspark.sql import SparkSession\n",
        "from pyspark.sql import SQLContext\n",
        "from pyspark.sql.functions import isnan, when, count, col, countDistinct, udf, lower, regexp_replace, size, explode, split, trim, expr\n",
        "\n",
        "from pyspark.sql.types import StructType,StructField,ArrayType,StringType\n",
        "\n",
        "\n",
        "from pyspark.ml.feature import Tokenizer, StopWordsRemover, Normalizer\n",
        "\n",
        "from pyspark.sql.types import DoubleType\n",
        "\n",
        "import time\n",
        "import matplotlib.pyplot as plt\n",
        "from matplotlib.pyplot import figure\n",
        "import datetime\n",
        "import warnings\n",
        "warnings.filterwarnings(\"ignore\")\n",
        "import numpy as np\n",
        "import pandas as pd\n",
        "import re\n",
        "import csv\n",
        "\n",
        "from sklearn.preprocessing import PolynomialFeatures\n",
        "from sklearn.linear_model import LinearRegression\n",
        "\n"
      ]
    },
    {
      "cell_type": "code",
      "execution_count": null,
      "metadata": {
        "id": "GI-qb1zfdbx-"
      },
      "outputs": [],
      "source": [
        "#using tweets from Dec 6 2022 to Dec 11 2022\n",
        "twitter = [ \"1206_UkraineCombinedTweetsDeduped.csv.gzip\",\n",
        "           \"1207_UkraineCombinedTweetsDeduped.csv.gzip\",\n",
        "          \"1208_UkraineCombinedTweetsDeduped.csv.gzip\",\n",
        "           \"1209_UkraineCombinedTweetsDeduped.csv.gzip\",\n",
        "           \"1210_UkraineCombinedTweetsDeduped.csv.gzip\",\n",
        "           \"1211_UkraineCombinedTweetsDeduped.csv.gzip\"]"
      ]
    },
    {
      "cell_type": "code",
      "execution_count": null,
      "metadata": {
        "colab": {
          "base_uri": "https://localhost:8080/"
        },
        "id": "zzhdRxowrE8e",
        "outputId": "6cba69c7-28e6-4365-8d73-b3f25b16d368"
      },
      "outputs": [
        {
          "output_type": "stream",
          "name": "stdout",
          "text": [
            "total number of rows 279769 and columns 29\n"
          ]
        }
      ],
      "source": [
        "ukraine = []\n",
        "\n",
        "for day in twitter:\n",
        "  df = pd.read_csv(day, compression='gzip', encoding='utf-8', quoting=csv.QUOTE_ALL)\n",
        "  ukraine.append(df)\n",
        "\n",
        "ukraine_combined = pd.concat(ukraine, axis=0)\n",
        "print(f\"total number of rows {ukraine_combined.shape[0]} and columns {ukraine_combined.shape[1]}\")"
      ]
    },
    {
      "cell_type": "code",
      "execution_count": null,
      "metadata": {
        "colab": {
          "base_uri": "https://localhost:8080/",
          "height": 456
        },
        "id": "SEO9BCYOt8A6",
        "outputId": "18ea2f96-670d-4e70-f890-ae666d139fbb"
      },
      "outputs": [
        {
          "output_type": "execute_result",
          "data": {
            "text/plain": [
              "   Unnamed: 0     userid         username  \\\n",
              "0       62140  901621364        tina_abre   \n",
              "1       62141  901621364        tina_abre   \n",
              "2       62142   41240677         ekekobbi   \n",
              "3       62143   22240612    AlArabiya_Eng   \n",
              "4       62144   18017198  TheAfricaReport   \n",
              "\n",
              "                                            acctdesc       location  \\\n",
              "0  Female Elvis The Song https://t.co/GoQupu0zVT ...        England   \n",
              "1  Female Elvis The Song https://t.co/GoQupu0zVT ...        England   \n",
              "2                                                NaN        Iceland   \n",
              "3  The Arab world’s leading source of global news...          Dubai   \n",
              "4  The magazine for African politics, business & ...  Paris, France   \n",
              "\n",
              "   following  followers  totaltweets        usercreatedts  \\\n",
              "0       1486       5580        22197  2012-10-24 11:02:51   \n",
              "1       1486       5580        22197  2012-10-24 11:02:51   \n",
              "2        183        189        31000  2009-05-19 23:30:16   \n",
              "3         46     923454       331466  2009-02-28 08:31:32   \n",
              "4       1167     234743        42264  2008-12-10 11:24:06   \n",
              "\n",
              "               tweetid  ... original_tweet_userid  original_tweet_username  \\\n",
              "0  1599916529528631297  ...                     0                      NaN   \n",
              "1  1599916530292113409  ...                     0                      NaN   \n",
              "2  1599916530955079685  ...                     0                      NaN   \n",
              "3  1599916531961548800  ...                     0                      NaN   \n",
              "4  1599916532473237504  ...                     0                      NaN   \n",
              "\n",
              "  in_reply_to_status_id in_reply_to_user_id in_reply_to_screen_name  \\\n",
              "0                     0                   0                     NaN   \n",
              "1                     0                   0                     NaN   \n",
              "2                     0                   0                     NaN   \n",
              "3                     0                   0                     NaN   \n",
              "4                     0                   0                     NaN   \n",
              "\n",
              "  is_quote_status  quoted_status_id  quoted_status_userid  \\\n",
              "0           False                 0                     0   \n",
              "1           False                 0                     0   \n",
              "2           False                 0                     0   \n",
              "3           False                 0                     0   \n",
              "4           False                 0                     0   \n",
              "\n",
              "   quoted_status_username                 extractedts  \n",
              "0                     NaN  2022-12-06 07:27:21.659159  \n",
              "1                     NaN  2022-12-06 07:27:21.647209  \n",
              "2                     NaN  2022-12-06 14:43:02.647202  \n",
              "3                     NaN  2022-12-06 09:12:30.480816  \n",
              "4                     NaN  2022-12-06 07:27:21.635162  \n",
              "\n",
              "[5 rows x 29 columns]"
            ],
            "text/html": [
              "\n",
              "  <div id=\"df-0f2ee32a-bb37-4b9c-8245-1075559def93\">\n",
              "    <div class=\"colab-df-container\">\n",
              "      <div>\n",
              "<style scoped>\n",
              "    .dataframe tbody tr th:only-of-type {\n",
              "        vertical-align: middle;\n",
              "    }\n",
              "\n",
              "    .dataframe tbody tr th {\n",
              "        vertical-align: top;\n",
              "    }\n",
              "\n",
              "    .dataframe thead th {\n",
              "        text-align: right;\n",
              "    }\n",
              "</style>\n",
              "<table border=\"1\" class=\"dataframe\">\n",
              "  <thead>\n",
              "    <tr style=\"text-align: right;\">\n",
              "      <th></th>\n",
              "      <th>Unnamed: 0</th>\n",
              "      <th>userid</th>\n",
              "      <th>username</th>\n",
              "      <th>acctdesc</th>\n",
              "      <th>location</th>\n",
              "      <th>following</th>\n",
              "      <th>followers</th>\n",
              "      <th>totaltweets</th>\n",
              "      <th>usercreatedts</th>\n",
              "      <th>tweetid</th>\n",
              "      <th>...</th>\n",
              "      <th>original_tweet_userid</th>\n",
              "      <th>original_tweet_username</th>\n",
              "      <th>in_reply_to_status_id</th>\n",
              "      <th>in_reply_to_user_id</th>\n",
              "      <th>in_reply_to_screen_name</th>\n",
              "      <th>is_quote_status</th>\n",
              "      <th>quoted_status_id</th>\n",
              "      <th>quoted_status_userid</th>\n",
              "      <th>quoted_status_username</th>\n",
              "      <th>extractedts</th>\n",
              "    </tr>\n",
              "  </thead>\n",
              "  <tbody>\n",
              "    <tr>\n",
              "      <th>0</th>\n",
              "      <td>62140</td>\n",
              "      <td>901621364</td>\n",
              "      <td>tina_abre</td>\n",
              "      <td>Female Elvis The Song https://t.co/GoQupu0zVT ...</td>\n",
              "      <td>England</td>\n",
              "      <td>1486</td>\n",
              "      <td>5580</td>\n",
              "      <td>22197</td>\n",
              "      <td>2012-10-24 11:02:51</td>\n",
              "      <td>1599916529528631297</td>\n",
              "      <td>...</td>\n",
              "      <td>0</td>\n",
              "      <td>NaN</td>\n",
              "      <td>0</td>\n",
              "      <td>0</td>\n",
              "      <td>NaN</td>\n",
              "      <td>False</td>\n",
              "      <td>0</td>\n",
              "      <td>0</td>\n",
              "      <td>NaN</td>\n",
              "      <td>2022-12-06 07:27:21.659159</td>\n",
              "    </tr>\n",
              "    <tr>\n",
              "      <th>1</th>\n",
              "      <td>62141</td>\n",
              "      <td>901621364</td>\n",
              "      <td>tina_abre</td>\n",
              "      <td>Female Elvis The Song https://t.co/GoQupu0zVT ...</td>\n",
              "      <td>England</td>\n",
              "      <td>1486</td>\n",
              "      <td>5580</td>\n",
              "      <td>22197</td>\n",
              "      <td>2012-10-24 11:02:51</td>\n",
              "      <td>1599916530292113409</td>\n",
              "      <td>...</td>\n",
              "      <td>0</td>\n",
              "      <td>NaN</td>\n",
              "      <td>0</td>\n",
              "      <td>0</td>\n",
              "      <td>NaN</td>\n",
              "      <td>False</td>\n",
              "      <td>0</td>\n",
              "      <td>0</td>\n",
              "      <td>NaN</td>\n",
              "      <td>2022-12-06 07:27:21.647209</td>\n",
              "    </tr>\n",
              "    <tr>\n",
              "      <th>2</th>\n",
              "      <td>62142</td>\n",
              "      <td>41240677</td>\n",
              "      <td>ekekobbi</td>\n",
              "      <td>NaN</td>\n",
              "      <td>Iceland</td>\n",
              "      <td>183</td>\n",
              "      <td>189</td>\n",
              "      <td>31000</td>\n",
              "      <td>2009-05-19 23:30:16</td>\n",
              "      <td>1599916530955079685</td>\n",
              "      <td>...</td>\n",
              "      <td>0</td>\n",
              "      <td>NaN</td>\n",
              "      <td>0</td>\n",
              "      <td>0</td>\n",
              "      <td>NaN</td>\n",
              "      <td>False</td>\n",
              "      <td>0</td>\n",
              "      <td>0</td>\n",
              "      <td>NaN</td>\n",
              "      <td>2022-12-06 14:43:02.647202</td>\n",
              "    </tr>\n",
              "    <tr>\n",
              "      <th>3</th>\n",
              "      <td>62143</td>\n",
              "      <td>22240612</td>\n",
              "      <td>AlArabiya_Eng</td>\n",
              "      <td>The Arab world’s leading source of global news...</td>\n",
              "      <td>Dubai</td>\n",
              "      <td>46</td>\n",
              "      <td>923454</td>\n",
              "      <td>331466</td>\n",
              "      <td>2009-02-28 08:31:32</td>\n",
              "      <td>1599916531961548800</td>\n",
              "      <td>...</td>\n",
              "      <td>0</td>\n",
              "      <td>NaN</td>\n",
              "      <td>0</td>\n",
              "      <td>0</td>\n",
              "      <td>NaN</td>\n",
              "      <td>False</td>\n",
              "      <td>0</td>\n",
              "      <td>0</td>\n",
              "      <td>NaN</td>\n",
              "      <td>2022-12-06 09:12:30.480816</td>\n",
              "    </tr>\n",
              "    <tr>\n",
              "      <th>4</th>\n",
              "      <td>62144</td>\n",
              "      <td>18017198</td>\n",
              "      <td>TheAfricaReport</td>\n",
              "      <td>The magazine for African politics, business &amp; ...</td>\n",
              "      <td>Paris, France</td>\n",
              "      <td>1167</td>\n",
              "      <td>234743</td>\n",
              "      <td>42264</td>\n",
              "      <td>2008-12-10 11:24:06</td>\n",
              "      <td>1599916532473237504</td>\n",
              "      <td>...</td>\n",
              "      <td>0</td>\n",
              "      <td>NaN</td>\n",
              "      <td>0</td>\n",
              "      <td>0</td>\n",
              "      <td>NaN</td>\n",
              "      <td>False</td>\n",
              "      <td>0</td>\n",
              "      <td>0</td>\n",
              "      <td>NaN</td>\n",
              "      <td>2022-12-06 07:27:21.635162</td>\n",
              "    </tr>\n",
              "  </tbody>\n",
              "</table>\n",
              "<p>5 rows × 29 columns</p>\n",
              "</div>\n",
              "      <button class=\"colab-df-convert\" onclick=\"convertToInteractive('df-0f2ee32a-bb37-4b9c-8245-1075559def93')\"\n",
              "              title=\"Convert this dataframe to an interactive table.\"\n",
              "              style=\"display:none;\">\n",
              "        \n",
              "  <svg xmlns=\"http://www.w3.org/2000/svg\" height=\"24px\"viewBox=\"0 0 24 24\"\n",
              "       width=\"24px\">\n",
              "    <path d=\"M0 0h24v24H0V0z\" fill=\"none\"/>\n",
              "    <path d=\"M18.56 5.44l.94 2.06.94-2.06 2.06-.94-2.06-.94-.94-2.06-.94 2.06-2.06.94zm-11 1L8.5 8.5l.94-2.06 2.06-.94-2.06-.94L8.5 2.5l-.94 2.06-2.06.94zm10 10l.94 2.06.94-2.06 2.06-.94-2.06-.94-.94-2.06-.94 2.06-2.06.94z\"/><path d=\"M17.41 7.96l-1.37-1.37c-.4-.4-.92-.59-1.43-.59-.52 0-1.04.2-1.43.59L10.3 9.45l-7.72 7.72c-.78.78-.78 2.05 0 2.83L4 21.41c.39.39.9.59 1.41.59.51 0 1.02-.2 1.41-.59l7.78-7.78 2.81-2.81c.8-.78.8-2.07 0-2.86zM5.41 20L4 18.59l7.72-7.72 1.47 1.35L5.41 20z\"/>\n",
              "  </svg>\n",
              "      </button>\n",
              "      \n",
              "  <style>\n",
              "    .colab-df-container {\n",
              "      display:flex;\n",
              "      flex-wrap:wrap;\n",
              "      gap: 12px;\n",
              "    }\n",
              "\n",
              "    .colab-df-convert {\n",
              "      background-color: #E8F0FE;\n",
              "      border: none;\n",
              "      border-radius: 50%;\n",
              "      cursor: pointer;\n",
              "      display: none;\n",
              "      fill: #1967D2;\n",
              "      height: 32px;\n",
              "      padding: 0 0 0 0;\n",
              "      width: 32px;\n",
              "    }\n",
              "\n",
              "    .colab-df-convert:hover {\n",
              "      background-color: #E2EBFA;\n",
              "      box-shadow: 0px 1px 2px rgba(60, 64, 67, 0.3), 0px 1px 3px 1px rgba(60, 64, 67, 0.15);\n",
              "      fill: #174EA6;\n",
              "    }\n",
              "\n",
              "    [theme=dark] .colab-df-convert {\n",
              "      background-color: #3B4455;\n",
              "      fill: #D2E3FC;\n",
              "    }\n",
              "\n",
              "    [theme=dark] .colab-df-convert:hover {\n",
              "      background-color: #434B5C;\n",
              "      box-shadow: 0px 1px 3px 1px rgba(0, 0, 0, 0.15);\n",
              "      filter: drop-shadow(0px 1px 2px rgba(0, 0, 0, 0.3));\n",
              "      fill: #FFFFFF;\n",
              "    }\n",
              "  </style>\n",
              "\n",
              "      <script>\n",
              "        const buttonEl =\n",
              "          document.querySelector('#df-0f2ee32a-bb37-4b9c-8245-1075559def93 button.colab-df-convert');\n",
              "        buttonEl.style.display =\n",
              "          google.colab.kernel.accessAllowed ? 'block' : 'none';\n",
              "\n",
              "        async function convertToInteractive(key) {\n",
              "          const element = document.querySelector('#df-0f2ee32a-bb37-4b9c-8245-1075559def93');\n",
              "          const dataTable =\n",
              "            await google.colab.kernel.invokeFunction('convertToInteractive',\n",
              "                                                     [key], {});\n",
              "          if (!dataTable) return;\n",
              "\n",
              "          const docLinkHtml = 'Like what you see? Visit the ' +\n",
              "            '<a target=\"_blank\" href=https://colab.research.google.com/notebooks/data_table.ipynb>data table notebook</a>'\n",
              "            + ' to learn more about interactive tables.';\n",
              "          element.innerHTML = '';\n",
              "          dataTable['output_type'] = 'display_data';\n",
              "          await google.colab.output.renderOutput(dataTable, element);\n",
              "          const docLink = document.createElement('div');\n",
              "          docLink.innerHTML = docLinkHtml;\n",
              "          element.appendChild(docLink);\n",
              "        }\n",
              "      </script>\n",
              "    </div>\n",
              "  </div>\n",
              "  "
            ]
          },
          "metadata": {},
          "execution_count": 4
        }
      ],
      "source": [
        "ukraine_combined.head()"
      ]
    },
    {
      "cell_type": "code",
      "execution_count": null,
      "metadata": {
        "colab": {
          "base_uri": "https://localhost:8080/"
        },
        "id": "l_Nw0Cavz8yB",
        "outputId": "78fd454b-1e0b-467a-818d-26ef3e60860c"
      },
      "outputs": [
        {
          "output_type": "stream",
          "name": "stdout",
          "text": [
            "<class 'pandas.core.frame.DataFrame'>\n",
            "Int64Index: 279769 entries, 0 to 43047\n",
            "Data columns (total 29 columns):\n",
            " #   Column                   Non-Null Count   Dtype  \n",
            "---  ------                   --------------   -----  \n",
            " 0   Unnamed: 0               279769 non-null  int64  \n",
            " 1   userid                   279769 non-null  int64  \n",
            " 2   username                 279769 non-null  object \n",
            " 3   acctdesc                 239177 non-null  object \n",
            " 4   location                 174770 non-null  object \n",
            " 5   following                279769 non-null  int64  \n",
            " 6   followers                279769 non-null  int64  \n",
            " 7   totaltweets              279769 non-null  int64  \n",
            " 8   usercreatedts            279769 non-null  object \n",
            " 9   tweetid                  279769 non-null  int64  \n",
            " 10  tweetcreatedts           279769 non-null  object \n",
            " 11  retweetcount             279769 non-null  int64  \n",
            " 12  text                     279769 non-null  object \n",
            " 13  hashtags                 279769 non-null  object \n",
            " 14  language                 279769 non-null  object \n",
            " 15  coordinates              1460 non-null    object \n",
            " 16  favorite_count           279769 non-null  int64  \n",
            " 17  is_retweet               279769 non-null  bool   \n",
            " 18  original_tweet_id        279769 non-null  int64  \n",
            " 19  original_tweet_userid    279769 non-null  int64  \n",
            " 20  original_tweet_username  0 non-null       float64\n",
            " 21  in_reply_to_status_id    279769 non-null  int64  \n",
            " 22  in_reply_to_user_id      279769 non-null  int64  \n",
            " 23  in_reply_to_screen_name  67379 non-null   object \n",
            " 24  is_quote_status          279769 non-null  bool   \n",
            " 25  quoted_status_id         279769 non-null  int64  \n",
            " 26  quoted_status_userid     279769 non-null  int64  \n",
            " 27  quoted_status_username   34274 non-null   object \n",
            " 28  extractedts              279769 non-null  object \n",
            "dtypes: bool(2), float64(1), int64(14), object(12)\n",
            "memory usage: 60.3+ MB\n"
          ]
        }
      ],
      "source": [
        "ukraine_combined.info()"
      ]
    },
    {
      "cell_type": "code",
      "execution_count": null,
      "metadata": {
        "colab": {
          "base_uri": "https://localhost:8080/"
        },
        "id": "T-W28QPJ0KDW",
        "outputId": "bc691c8f-98a7-4c30-fc61-14ee967e14f5"
      },
      "outputs": [
        {
          "output_type": "execute_result",
          "data": {
            "text/plain": [
              "array(['in', 'es', 'en', 'nl', 'te', 'ca', 'uk', 'th', 'de', 'und', 'pt',\n",
              "       'ja', 'it', 'ru', 'fa', 'fr', 'ta', 'ht', 'hi', 'ar', 'pl', 'el',\n",
              "       'et', 'da', 'pa', 'ka', 'cy', 'tl', 'ur', 'ro', 'bn', 'bg', 'is',\n",
              "       'no', 'lt', 'sr', 'tr', 'gu', 'lv', 'cs', 'fi', 'iw', 'vi', 'zh',\n",
              "       'ko', 'sl', 'ne', 'sv', 'mr', 'eu', 'or', 'ml', 'kn', 'si', 'hu',\n",
              "       'my', 'am', 'dv', 'sd', 'ps', 'hy', 'km', 'ckb'], dtype=object)"
            ]
          },
          "metadata": {},
          "execution_count": 6
        }
      ],
      "source": [
        "ukraine_combined['language'].unique()"
      ]
    },
    {
      "cell_type": "code",
      "execution_count": null,
      "metadata": {
        "colab": {
          "base_uri": "https://localhost:8080/"
        },
        "id": "pIbPLCPT0zhg",
        "outputId": "e06a8c66-0458-41c7-a0f7-f9c388aaa8ab"
      },
      "outputs": [
        {
          "output_type": "execute_result",
          "data": {
            "text/plain": [
              "en     57.526030\n",
              "und     9.936412\n",
              "uk      6.585076\n",
              "de      3.905365\n",
              "fr      3.751309\n",
              "         ...    \n",
              "sd      0.001072\n",
              "hy      0.001072\n",
              "km      0.001072\n",
              "dv      0.000357\n",
              "ckb     0.000357\n",
              "Name: language, Length: 63, dtype: float64"
            ]
          },
          "metadata": {},
          "execution_count": 7
        }
      ],
      "source": [
        "#calculating the precentage of each language\n",
        "ukraine_combined['language'].value_counts(normalize=True) * 100"
      ]
    },
    {
      "cell_type": "code",
      "execution_count": null,
      "metadata": {
        "colab": {
          "base_uri": "https://localhost:8080/",
          "height": 206
        },
        "id": "RGIxs7775cy6",
        "outputId": "d7c8a8e3-7812-41b9-beda-46c4dda6408d"
      },
      "outputs": [
        {
          "output_type": "execute_result",
          "data": {
            "text/plain": [
              "                 userid         username  \\\n",
              "3              22240612    AlArabiya_Eng   \n",
              "4              18017198  TheAfricaReport   \n",
              "5   1587111210809442304            vbl68   \n",
              "6            4002394887          ibam_tr   \n",
              "11             19282353             swon   \n",
              "\n",
              "                                                 text language  \n",
              "3   ICYMI: #Oil prices rise 3 percent after OPEC+ ...       en  \n",
              "4   A global fertiliser supply shock deepened by #...       en  \n",
              "5   BRUTAL ATTACK (Dec 05) Ukraine TB-2s drones de...       en  \n",
              "6   🗞️News\\n\\nApproximately 6.5 million people in ...       en  \n",
              "11  Entering at day #286 of Russia Invasion [UTC] ...       en  "
            ],
            "text/html": [
              "\n",
              "  <div id=\"df-3bb94567-6969-4dcc-964f-31a6e53ad6e6\">\n",
              "    <div class=\"colab-df-container\">\n",
              "      <div>\n",
              "<style scoped>\n",
              "    .dataframe tbody tr th:only-of-type {\n",
              "        vertical-align: middle;\n",
              "    }\n",
              "\n",
              "    .dataframe tbody tr th {\n",
              "        vertical-align: top;\n",
              "    }\n",
              "\n",
              "    .dataframe thead th {\n",
              "        text-align: right;\n",
              "    }\n",
              "</style>\n",
              "<table border=\"1\" class=\"dataframe\">\n",
              "  <thead>\n",
              "    <tr style=\"text-align: right;\">\n",
              "      <th></th>\n",
              "      <th>userid</th>\n",
              "      <th>username</th>\n",
              "      <th>text</th>\n",
              "      <th>language</th>\n",
              "    </tr>\n",
              "  </thead>\n",
              "  <tbody>\n",
              "    <tr>\n",
              "      <th>3</th>\n",
              "      <td>22240612</td>\n",
              "      <td>AlArabiya_Eng</td>\n",
              "      <td>ICYMI: #Oil prices rise 3 percent after OPEC+ ...</td>\n",
              "      <td>en</td>\n",
              "    </tr>\n",
              "    <tr>\n",
              "      <th>4</th>\n",
              "      <td>18017198</td>\n",
              "      <td>TheAfricaReport</td>\n",
              "      <td>A global fertiliser supply shock deepened by #...</td>\n",
              "      <td>en</td>\n",
              "    </tr>\n",
              "    <tr>\n",
              "      <th>5</th>\n",
              "      <td>1587111210809442304</td>\n",
              "      <td>vbl68</td>\n",
              "      <td>BRUTAL ATTACK (Dec 05) Ukraine TB-2s drones de...</td>\n",
              "      <td>en</td>\n",
              "    </tr>\n",
              "    <tr>\n",
              "      <th>6</th>\n",
              "      <td>4002394887</td>\n",
              "      <td>ibam_tr</td>\n",
              "      <td>🗞️News\\n\\nApproximately 6.5 million people in ...</td>\n",
              "      <td>en</td>\n",
              "    </tr>\n",
              "    <tr>\n",
              "      <th>11</th>\n",
              "      <td>19282353</td>\n",
              "      <td>swon</td>\n",
              "      <td>Entering at day #286 of Russia Invasion [UTC] ...</td>\n",
              "      <td>en</td>\n",
              "    </tr>\n",
              "  </tbody>\n",
              "</table>\n",
              "</div>\n",
              "      <button class=\"colab-df-convert\" onclick=\"convertToInteractive('df-3bb94567-6969-4dcc-964f-31a6e53ad6e6')\"\n",
              "              title=\"Convert this dataframe to an interactive table.\"\n",
              "              style=\"display:none;\">\n",
              "        \n",
              "  <svg xmlns=\"http://www.w3.org/2000/svg\" height=\"24px\"viewBox=\"0 0 24 24\"\n",
              "       width=\"24px\">\n",
              "    <path d=\"M0 0h24v24H0V0z\" fill=\"none\"/>\n",
              "    <path d=\"M18.56 5.44l.94 2.06.94-2.06 2.06-.94-2.06-.94-.94-2.06-.94 2.06-2.06.94zm-11 1L8.5 8.5l.94-2.06 2.06-.94-2.06-.94L8.5 2.5l-.94 2.06-2.06.94zm10 10l.94 2.06.94-2.06 2.06-.94-2.06-.94-.94-2.06-.94 2.06-2.06.94z\"/><path d=\"M17.41 7.96l-1.37-1.37c-.4-.4-.92-.59-1.43-.59-.52 0-1.04.2-1.43.59L10.3 9.45l-7.72 7.72c-.78.78-.78 2.05 0 2.83L4 21.41c.39.39.9.59 1.41.59.51 0 1.02-.2 1.41-.59l7.78-7.78 2.81-2.81c.8-.78.8-2.07 0-2.86zM5.41 20L4 18.59l7.72-7.72 1.47 1.35L5.41 20z\"/>\n",
              "  </svg>\n",
              "      </button>\n",
              "      \n",
              "  <style>\n",
              "    .colab-df-container {\n",
              "      display:flex;\n",
              "      flex-wrap:wrap;\n",
              "      gap: 12px;\n",
              "    }\n",
              "\n",
              "    .colab-df-convert {\n",
              "      background-color: #E8F0FE;\n",
              "      border: none;\n",
              "      border-radius: 50%;\n",
              "      cursor: pointer;\n",
              "      display: none;\n",
              "      fill: #1967D2;\n",
              "      height: 32px;\n",
              "      padding: 0 0 0 0;\n",
              "      width: 32px;\n",
              "    }\n",
              "\n",
              "    .colab-df-convert:hover {\n",
              "      background-color: #E2EBFA;\n",
              "      box-shadow: 0px 1px 2px rgba(60, 64, 67, 0.3), 0px 1px 3px 1px rgba(60, 64, 67, 0.15);\n",
              "      fill: #174EA6;\n",
              "    }\n",
              "\n",
              "    [theme=dark] .colab-df-convert {\n",
              "      background-color: #3B4455;\n",
              "      fill: #D2E3FC;\n",
              "    }\n",
              "\n",
              "    [theme=dark] .colab-df-convert:hover {\n",
              "      background-color: #434B5C;\n",
              "      box-shadow: 0px 1px 3px 1px rgba(0, 0, 0, 0.15);\n",
              "      filter: drop-shadow(0px 1px 2px rgba(0, 0, 0, 0.3));\n",
              "      fill: #FFFFFF;\n",
              "    }\n",
              "  </style>\n",
              "\n",
              "      <script>\n",
              "        const buttonEl =\n",
              "          document.querySelector('#df-3bb94567-6969-4dcc-964f-31a6e53ad6e6 button.colab-df-convert');\n",
              "        buttonEl.style.display =\n",
              "          google.colab.kernel.accessAllowed ? 'block' : 'none';\n",
              "\n",
              "        async function convertToInteractive(key) {\n",
              "          const element = document.querySelector('#df-3bb94567-6969-4dcc-964f-31a6e53ad6e6');\n",
              "          const dataTable =\n",
              "            await google.colab.kernel.invokeFunction('convertToInteractive',\n",
              "                                                     [key], {});\n",
              "          if (!dataTable) return;\n",
              "\n",
              "          const docLinkHtml = 'Like what you see? Visit the ' +\n",
              "            '<a target=\"_blank\" href=https://colab.research.google.com/notebooks/data_table.ipynb>data table notebook</a>'\n",
              "            + ' to learn more about interactive tables.';\n",
              "          element.innerHTML = '';\n",
              "          dataTable['output_type'] = 'display_data';\n",
              "          await google.colab.output.renderOutput(dataTable, element);\n",
              "          const docLink = document.createElement('div');\n",
              "          docLink.innerHTML = docLinkHtml;\n",
              "          element.appendChild(docLink);\n",
              "        }\n",
              "      </script>\n",
              "    </div>\n",
              "  </div>\n",
              "  "
            ]
          },
          "metadata": {},
          "execution_count": 8
        }
      ],
      "source": [
        "language_list = ['en', 'uk']\n",
        "ukraine_df = ukraine_combined[ukraine_combined['language'].isin(language_list)]\n",
        "ukraine_df = ukraine_df[['userid','username','text','language']]\n",
        "ukraine_df.head()"
      ]
    },
    {
      "cell_type": "code",
      "execution_count": null,
      "metadata": {
        "colab": {
          "base_uri": "https://localhost:8080/"
        },
        "id": "HQzKM3h951nS",
        "outputId": "c16da2a4-cbc3-427e-f010-d4705c5b83f4"
      },
      "outputs": [
        {
          "output_type": "execute_result",
          "data": {
            "text/plain": [
              "(179363, 4)"
            ]
          },
          "metadata": {},
          "execution_count": 9
        }
      ],
      "source": [
        "ukraine_df.shape"
      ]
    },
    {
      "cell_type": "code",
      "execution_count": null,
      "metadata": {
        "colab": {
          "base_uri": "https://localhost:8080/"
        },
        "id": "t2WbBzpH5vUn",
        "outputId": "b2fbb964-09eb-4a64-b060-8f086f8258d7"
      },
      "outputs": [
        {
          "output_type": "execute_result",
          "data": {
            "text/plain": [
              "(176368, 4)"
            ]
          },
          "metadata": {},
          "execution_count": 10
        }
      ],
      "source": [
        "#removing duplicages\n",
        "ukraine_df.drop_duplicates(subset=['text'],keep='last',inplace=True)\n",
        "ukraine_df.shape\n"
      ]
    },
    {
      "cell_type": "code",
      "execution_count": null,
      "metadata": {
        "id": "nTy-25ALKSEp"
      },
      "outputs": [],
      "source": [
        "#removing links\n",
        "ukraine_df['text'] = ukraine_df['text'].apply(lambda x: re.split('https:\\/\\/.*', str(x))[0])"
      ]
    },
    {
      "cell_type": "code",
      "execution_count": null,
      "metadata": {
        "id": "S0L3gav2Sl9V"
      },
      "outputs": [],
      "source": [
        "# removing hashtag symbol \n",
        "ukraine_df['text'] = ukraine_df['text'].str.replace('#','') "
      ]
    },
    {
      "cell_type": "code",
      "execution_count": null,
      "metadata": {
        "id": "vJIf0Au0ToNC"
      },
      "outputs": [],
      "source": [
        "#removing mentioning @ symbol\n",
        "ukraine_df['text'] = ukraine_df['text'].str.replace('@','') "
      ]
    },
    {
      "cell_type": "code",
      "execution_count": null,
      "metadata": {
        "id": "DVv9Bz-eZrKz"
      },
      "outputs": [],
      "source": [
        "#initializing spark \n",
        "spark = SparkSession.builder.enableHiveSupport().getOrCreate()\n",
        "from pyspark.sql import SQLContext\n",
        "spark.conf.set(\"spark.sql.execution.arrow.pyspark.enabled\", \"true\")\n",
        "sc = spark.sparkContext"
      ]
    },
    {
      "cell_type": "code",
      "execution_count": null,
      "metadata": {
        "id": "glcBx_ckx33W"
      },
      "outputs": [],
      "source": [
        "#remove punctuation function for further analysis of the language subsets\n",
        "def removePunctuation(column):\n",
        "   return lower(trim(regexp_replace(column,'\\\\p{Punct}',''))).alias('sentence')"
      ]
    },
    {
      "cell_type": "code",
      "execution_count": null,
      "metadata": {
        "colab": {
          "base_uri": "https://localhost:8080/"
        },
        "id": "I_WVjTdt3raZ",
        "outputId": "b59407df-6075-4f2f-ebfa-f83516c030c5"
      },
      "outputs": [
        {
          "output_type": "stream",
          "name": "stderr",
          "text": [
            "[nltk_data] Downloading package stopwords to /root/nltk_data...\n",
            "[nltk_data]   Package stopwords is already up-to-date!\n",
            "[nltk_data] Downloading package wordnet to /root/nltk_data...\n",
            "[nltk_data]   Package wordnet is already up-to-date!\n",
            "[nltk_data] Downloading package punkt to /root/nltk_data...\n",
            "[nltk_data]   Package punkt is already up-to-date!\n",
            "[nltk_data] Downloading package averaged_perceptron_tagger to\n",
            "[nltk_data]     /root/nltk_data...\n",
            "[nltk_data]   Package averaged_perceptron_tagger is already up-to-\n",
            "[nltk_data]       date!\n"
          ]
        }
      ],
      "source": [
        "## Setup nltk and importing the necessary libraries\n",
        "!pip install -q wordcloud\n",
        "import wordcloud\n",
        "\n",
        "import nltk\n",
        "nltk.download('stopwords')\n",
        "nltk.download('wordnet')\n",
        "nltk.download('punkt')\n",
        "nltk.download('averaged_perceptron_tagger') \n",
        "from nltk.corpus import stopwords\n",
        "from nltk.tokenize import word_tokenize\n",
        "import string  \n",
        "\n",
        "import time\n",
        "from tqdm import tqdm\n",
        "from pyspark.ml.fpm import FPGrowth\n",
        "\n"
      ]
    },
    {
      "cell_type": "code",
      "execution_count": null,
      "metadata": {
        "id": "MHGpCXGmykOZ"
      },
      "outputs": [],
      "source": [
        "#creating list of stopwords for the used languages\n",
        "stopEN = stopwords.words('english')"
      ]
    },
    {
      "cell_type": "code",
      "execution_count": null,
      "metadata": {
        "id": "s7hhqAkPyuoq"
      },
      "outputs": [],
      "source": [
        "#nltk library does not contain the set of ukrainian stop words so I download them from the GitHub repository\n",
        "stopUA = pd.read_csv(\"https://raw.githubusercontent.com/skupriienko/Ukrainian-Stopwords/master/stopwords_ua.txt\", header=None, names=['stopwords'])\n",
        "stopUA = stopUA.stopwords.tolist()"
      ]
    },
    {
      "cell_type": "markdown",
      "metadata": {
        "id": "uSM887gqlW5c"
      },
      "source": [
        "##Ukrainian Language Tweets "
      ]
    },
    {
      "cell_type": "code",
      "execution_count": null,
      "metadata": {
        "colab": {
          "base_uri": "https://localhost:8080/"
        },
        "id": "bhE6PXLeJk17",
        "outputId": "ec1b981f-b7c0-44bd-d546-b8eafb0c26a8"
      },
      "outputs": [
        {
          "output_type": "execute_result",
          "data": {
            "text/plain": [
              "(18394, 4)"
            ]
          },
          "metadata": {},
          "execution_count": 19
        }
      ],
      "source": [
        "ukraine_ua= ukraine_df[ukraine_df['language']=='uk']\n",
        "ukraine_ua.shape"
      ]
    },
    {
      "cell_type": "code",
      "execution_count": null,
      "metadata": {
        "colab": {
          "base_uri": "https://localhost:8080/"
        },
        "id": "7BfaTiWUJk17",
        "outputId": "741fefb5-404a-4aba-c5ab-d7db5a64aa7e"
      },
      "outputs": [
        {
          "output_type": "stream",
          "name": "stdout",
          "text": [
            "+-------------------+---------------+--------------------+--------+\n",
            "|             userid|       username|                text|language|\n",
            "+-------------------+---------------+--------------------+--------+\n",
            "|1546804625545859073|   GorbatenkoUA|tetiptashka Бо во...|      uk|\n",
            "|         2687934091|      vybukhova|elriness odarkovk...|      uk|\n",
            "|1498027981217935364|Mriya_dlia_Mrii|Там у Казахів три...|      uk|\n",
            "|         2687934091|      vybukhova|У мене вже давно ...|      uk|\n",
            "|1512034057936326662|  Diana00683825|iivazag0 jinachak...|      uk|\n",
            "+-------------------+---------------+--------------------+--------+\n",
            "only showing top 5 rows\n",
            "\n"
          ]
        },
        {
          "output_type": "execute_result",
          "data": {
            "text/plain": [
              "DataFrame[userid: bigint, username: string, text: string, language: string]"
            ]
          },
          "metadata": {},
          "execution_count": 20
        }
      ],
      "source": [
        "spark_ua=spark.createDataFrame(ukraine_ua) \n",
        "spark_ua.createOrReplaceTempView(\"ukraine_ua\")\n",
        "spark_ua.show(5)\n",
        "spark_ua.cache()\n"
      ]
    },
    {
      "cell_type": "code",
      "execution_count": null,
      "metadata": {
        "id": "Xv2xLqp1Jk2A",
        "colab": {
          "base_uri": "https://localhost:8080/"
        },
        "outputId": "9e84ea5a-76b7-477d-da17-1234d22f9db9"
      },
      "outputs": [
        {
          "output_type": "stream",
          "name": "stdout",
          "text": [
            "+--------------------+\n",
            "|                text|\n",
            "+--------------------+\n",
            "|tetiptashka Бо во...|\n",
            "|elriness odarkovk...|\n",
            "|Там у Казахів три...|\n",
            "|У мене вже давно ...|\n",
            "|iivazag0 jinachak...|\n",
            "+--------------------+\n",
            "only showing top 5 rows\n",
            "\n"
          ]
        }
      ],
      "source": [
        "#selecting only text columns\n",
        "spark_ua = spark_ua.select(\"text\")\n",
        "spark_ua.show(n = 5)\n",
        "     "
      ]
    },
    {
      "cell_type": "code",
      "execution_count": null,
      "metadata": {
        "id": "rY7EEgqBJk2B",
        "colab": {
          "base_uri": "https://localhost:8080/"
        },
        "outputId": "7eaa77a8-3973-4965-8b98-ff9876285eb3"
      },
      "outputs": [
        {
          "output_type": "stream",
          "name": "stdout",
          "text": [
            "+--------------------+\n",
            "|                text|\n",
            "+--------------------+\n",
            "|tetiptashka бо во...|\n",
            "|elriness odarkovk...|\n",
            "|там у казахів три...|\n",
            "|у мене вже давно ...|\n",
            "|iivazag0 jinachak...|\n",
            "+--------------------+\n",
            "only showing top 5 rows\n",
            "\n"
          ]
        }
      ],
      "source": [
        "#remove punctuation\n",
        "spark_ua = spark_ua.select(removePunctuation(col('text')).alias(\"text\"))\n",
        "spark_ua.show(5)\n"
      ]
    },
    {
      "cell_type": "code",
      "execution_count": null,
      "metadata": {
        "id": "BC2jcAJJJk2B",
        "colab": {
          "base_uri": "https://localhost:8080/"
        },
        "outputId": "a449aed1-e9dd-4360-8a04-8abae3d99cc3"
      },
      "outputs": [
        {
          "output_type": "stream",
          "name": "stdout",
          "text": [
            "+--------------------+--------------------+\n",
            "|                text|         words_token|\n",
            "+--------------------+--------------------+\n",
            "|tetiptashka бо во...|[tetiptashka, бо,...|\n",
            "|elriness odarkovk...|[elriness, odarko...|\n",
            "|там у казахів три...|[там, у, казахів,...|\n",
            "|у мене вже давно ...|[у, мене, вже, да...|\n",
            "|iivazag0 jinachak...|[iivazag0, jinach...|\n",
            "+--------------------+--------------------+\n",
            "only showing top 5 rows\n",
            "\n"
          ]
        }
      ],
      "source": [
        "#tokenization\n",
        "tokenizer = Tokenizer(inputCol='text', outputCol='words_token')\n",
        "spark_ua = spark_ua.withColumn(\"text\", trim(col(\"text\")))\n",
        "spark_ua = tokenizer.transform(spark_ua)\n",
        "spark_ua.show(5)\n"
      ]
    },
    {
      "cell_type": "code",
      "execution_count": null,
      "metadata": {
        "id": "ngtYwnYIJk2G"
      },
      "outputs": [],
      "source": [
        "#removing stop words\n",
        "remover = StopWordsRemover(stopWords=stopUA,inputCol='words_token', outputCol='tokenized')\n",
        "spark_ua = remover.transform(spark_ua).select(\"text\",'tokenized')"
      ]
    },
    {
      "cell_type": "code",
      "execution_count": null,
      "metadata": {
        "id": "XOpbIJECJk2G",
        "colab": {
          "base_uri": "https://localhost:8080/"
        },
        "outputId": "c64f6a3e-0075-439b-b33e-ac441ae3b6fd"
      },
      "outputs": [
        {
          "output_type": "stream",
          "name": "stdout",
          "text": [
            "+--------------------+--------------------+\n",
            "|                text|           tokenized|\n",
            "+--------------------+--------------------+\n",
            "|tetiptashka бо во...|[tetiptashka, дум...|\n",
            "|elriness odarkovk...|[elriness, odarko...|\n",
            "|там у казахів три...|[казахів, міста, ...|\n",
            "|у мене вже давно ...|[передчуття, хоро...|\n",
            "|iivazag0 jinachak...|[iivazag0, jinach...|\n",
            "+--------------------+--------------------+\n",
            "only showing top 5 rows\n",
            "\n"
          ]
        }
      ],
      "source": [
        "#trim spaces\n",
        "spark_ua = spark_ua.withColumn(\"tokenized\", expr(\"filter(tokenized, elem -> elem != '')\"))\n",
        "spark_ua.show(5)\n"
      ]
    },
    {
      "cell_type": "code",
      "execution_count": null,
      "metadata": {
        "id": "dW90IangJk2G",
        "colab": {
          "base_uri": "https://localhost:8080/"
        },
        "outputId": "b3ef86d9-e4b9-4abf-cc45-64defa882970"
      },
      "outputs": [
        {
          "output_type": "stream",
          "name": "stdout",
          "text": [
            "+--------------------+--------------------+\n",
            "|                text|           tokenized|\n",
            "+--------------------+--------------------+\n",
            "|tetiptashka бо во...|[tetiptashka, дум...|\n",
            "|elriness odarkovk...|[odarkovka, приве...|\n",
            "|там у казахів три...|[допомогти, пизді...|\n",
            "|у мене вже давно ...|[росте, цікаво, п...|\n",
            "|iivazag0 jinachak...|[iivazag0, відпов...|\n",
            "+--------------------+--------------------+\n",
            "only showing top 5 rows\n",
            "\n"
          ]
        }
      ],
      "source": [
        "#for performing FPGrowth algorithm we need unique words in tokenized column\n",
        "get_uniques=udf(lambda x: list(set(x)), ArrayType(StringType()))\n",
        "\n",
        "spark_ua = spark_ua.withColumn(\"tokenized\", get_uniques(spark_ua.tokenized))\n",
        "spark_ua.show(5)\n",
        "\n"
      ]
    },
    {
      "cell_type": "code",
      "execution_count": null,
      "metadata": {
        "id": "avDxN_QCJk2H"
      },
      "outputs": [],
      "source": [
        "#FP Growth algorithm for ukrainian data\n",
        "np.random.seed(1105)\n",
        "\n",
        "fpGrowth = FPGrowth(itemsCol=\"tokenized\", minSupport = 0.02)\n",
        "model = fpGrowth.fit(spark_ua)\n",
        "association_rules = model.associationRules\n",
        "frequent_items = model.freqItemsets\n",
        "\n"
      ]
    },
    {
      "cell_type": "code",
      "execution_count": null,
      "metadata": {
        "id": "a-Tej-4nJk2M",
        "colab": {
          "base_uri": "https://localhost:8080/"
        },
        "outputId": "f63578bc-2570-4a03-82a5-5423b524f5ab"
      },
      "outputs": [
        {
          "output_type": "stream",
          "name": "stdout",
          "text": [
            "+-------------------------+----+\n",
            "|items                    |freq|\n",
            "+-------------------------+----+\n",
            "|[ukraine]                |1039|\n",
            "|[зсу]                    |641 |\n",
            "|[stoprussia]             |545 |\n",
            "|[україна]                |537 |\n",
            "|[україни]                |467 |\n",
            "|[шо]                     |442 |\n",
            "|[russiaisaterroriststate]|428 |\n",
            "|[украина]                |378 |\n",
            "|[standwithukraine]       |374 |\n",
            "+-------------------------+----+\n",
            "\n"
          ]
        }
      ],
      "source": [
        "frequent_items.orderBy(\"freq\",ascending=False).show(20,truncate=False)"
      ]
    },
    {
      "cell_type": "code",
      "execution_count": null,
      "metadata": {
        "id": "23nPGi01zabR"
      },
      "outputs": [],
      "source": [
        "frequentUA = ['ukraine','russia','russian','ukrainian','war','putin','ukrainerussiawar','russiaisaterroriststate','stoprussia','україна','війна','всу', 'путін', 'шо','украина','україни','росія','standwithukraine',\"2\",'ukrainerussianwar', 'має','10','зсу','–','—','россия','україні','взагалі','🇺🇦','войнасукраиной','вторжениероссии','війнапутіна','агрессияроссии']"
      ]
    },
    {
      "cell_type": "code",
      "execution_count": null,
      "metadata": {
        "id": "1E-kuB620ZtW"
      },
      "outputs": [],
      "source": [
        "stopUA.extend(frequentUA)\n",
        "stopUA = list(dict.fromkeys(stopUA))"
      ]
    },
    {
      "cell_type": "code",
      "execution_count": null,
      "metadata": {
        "id": "KfCLVCxLJk2S",
        "colab": {
          "base_uri": "https://localhost:8080/"
        },
        "outputId": "5db8d9f5-d52b-4f4d-a428-c0bea49cc535"
      },
      "outputs": [
        {
          "output_type": "execute_result",
          "data": {
            "text/plain": [
              "9"
            ]
          },
          "metadata": {},
          "execution_count": 31
        }
      ],
      "source": [
        "frequent_items.count()\n"
      ]
    },
    {
      "cell_type": "code",
      "execution_count": null,
      "metadata": {
        "id": "7qKyiL_HJk2V",
        "colab": {
          "base_uri": "https://localhost:8080/"
        },
        "outputId": "92632b6b-a599-4039-8a5b-865533f31c8a"
      },
      "outputs": [
        {
          "output_type": "stream",
          "name": "stdout",
          "text": [
            "+--------------------+--------------------+\n",
            "|                text|          tokenized2|\n",
            "+--------------------+--------------------+\n",
            "|tetiptashka бо во...|[tetiptashka, дум...|\n",
            "|elriness odarkovk...|[odarkovka, приве...|\n",
            "|там у казахів три...|[допомогти, пизді...|\n",
            "|у мене вже давно ...|[росте, цікаво, п...|\n",
            "|iivazag0 jinachak...|[iivazag0, відпов...|\n",
            "+--------------------+--------------------+\n",
            "only showing top 5 rows\n",
            "\n"
          ]
        }
      ],
      "source": [
        "#performing FP-algorithm the second time\n",
        "\n",
        "#tokenization\n",
        "tokenizer = Tokenizer(inputCol='text', outputCol='words_token')\n",
        "spark_ua = spark_ua.withColumn(\"text\", trim(col(\"text\")))\n",
        "spark_ua = tokenizer.transform(spark_ua)\n",
        "\n",
        "#stop-words removal\n",
        "remover = StopWordsRemover(stopWords=stopUA,inputCol='words_token', outputCol='tokenized2')\n",
        "spark_ua = remover.transform(spark_ua).select(\"text\",'tokenized2')\n",
        "\n",
        "#trim spaces\n",
        "spark_ua = spark_ua.withColumn(\"tokenized2\", expr(\"filter(tokenized2, elem -> elem != '')\"))\n",
        "\n",
        "#for performing FPGrowth algorithm we need unique words in tokenized column\n",
        "get_uniques=udf(lambda x: list(set(x)), ArrayType(StringType()))\n",
        "\n",
        "spark_ua = spark_ua.withColumn(\"tokenized2\", get_uniques(spark_ua.tokenized2))\n",
        "spark_ua.show(5)\n"
      ]
    },
    {
      "cell_type": "code",
      "execution_count": null,
      "metadata": {
        "id": "sOh6sZa9Jk2f"
      },
      "outputs": [],
      "source": [
        "#FP Growth algorithm for ukrainian data\n",
        "np.random.seed(1105)\n",
        "#lowering support to 0.005\n",
        "fpGrowth = FPGrowth(itemsCol=\"tokenized2\", minSupport = 0.005)\n",
        "model = fpGrowth.fit(spark_ua)\n",
        "association_rules = model.associationRules\n",
        "frequent_items = model.freqItemsets\n",
        "\n"
      ]
    },
    {
      "cell_type": "code",
      "execution_count": null,
      "metadata": {
        "id": "0MLnv2o9Jk2f",
        "colab": {
          "base_uri": "https://localhost:8080/"
        },
        "outputId": "95e4336a-f39d-4f10-fa00-1f3e55be690b"
      },
      "outputs": [
        {
          "output_type": "stream",
          "name": "stdout",
          "text": [
            "+---------+----+\n",
            "|items    |freq|\n",
            "+---------+----+\n",
            "|[день]   |330 |\n",
            "|[світло] |272 |\n",
            "|[світла] |253 |\n",
            "|[життя]  |245 |\n",
            "|[знаю]   |231 |\n",
            "|[людей]  |216 |\n",
            "|[хочу]   |205 |\n",
            "|[слава]  |199 |\n",
            "|[нема]   |193 |\n",
            "|[kyiv]   |188 |\n",
            "|[фото]   |184 |\n",
            "|[nasa]   |174 |\n",
            "|[рф]     |165 |\n",
            "|[війни]  |156 |\n",
            "|[росії]  |144 |\n",
            "|[kherson]|143 |\n",
            "|[розумію]|142 |\n",
            "|[грудня] |141 |\n",
            "|[робити] |141 |\n",
            "|[відео]  |139 |\n",
            "+---------+----+\n",
            "only showing top 20 rows\n",
            "\n"
          ]
        }
      ],
      "source": [
        "frequent_items.orderBy(\"freq\",ascending=False).show(20,truncate=False)"
      ]
    },
    {
      "cell_type": "code",
      "execution_count": null,
      "metadata": {
        "colab": {
          "base_uri": "https://localhost:8080/"
        },
        "id": "0ZzfaGr8CRMX",
        "outputId": "de1a80b8-907c-49cc-efb1-b3172e13aa3a"
      },
      "outputs": [
        {
          "output_type": "execute_result",
          "data": {
            "text/plain": [
              "(0, 4)"
            ]
          },
          "metadata": {},
          "execution_count": 35
        }
      ],
      "source": [
        "ukraine_ru = ukraine_df[ukraine_df['language']=='ru']\n",
        "ukraine_ru.shape"
      ]
    },
    {
      "cell_type": "markdown",
      "metadata": {
        "id": "zwKB4NsAv84_"
      },
      "source": [
        "##English Language Tweets\n"
      ]
    },
    {
      "cell_type": "code",
      "execution_count": null,
      "metadata": {
        "colab": {
          "base_uri": "https://localhost:8080/"
        },
        "id": "B-K1Hb3swDnN",
        "outputId": "a2e8925c-959e-4131-e860-bd8f4e9a09bd"
      },
      "outputs": [
        {
          "output_type": "execute_result",
          "data": {
            "text/plain": [
              "(157974, 4)"
            ]
          },
          "metadata": {},
          "execution_count": 37
        }
      ],
      "source": [
        "ukraine_en = ukraine_df[ukraine_df['language']=='en']\n",
        "ukraine_en.shape"
      ]
    },
    {
      "cell_type": "code",
      "execution_count": null,
      "metadata": {
        "id": "5_zSXa5YI5gx"
      },
      "outputs": [],
      "source": [
        "#removing emojis\n",
        "ukraine_en = ukraine_en.astype(str).apply(lambda x: x.str.encode('ascii', 'ignore').str.decode('ascii'))"
      ]
    },
    {
      "cell_type": "code",
      "execution_count": null,
      "metadata": {
        "colab": {
          "base_uri": "https://localhost:8080/"
        },
        "id": "5Z-Odc8V0W8D",
        "outputId": "d8885686-0948-45dc-9d6a-6cfc811a7976"
      },
      "outputs": [
        {
          "output_type": "stream",
          "name": "stdout",
          "text": [
            "+-------------------+---------------+--------------------+--------+\n",
            "|             userid|       username|                text|language|\n",
            "+-------------------+---------------+--------------------+--------+\n",
            "|           22240612|  AlArabiya_Eng|ICYMI: Oil prices...|      en|\n",
            "|           18017198|TheAfricaReport|A global fertilis...|      en|\n",
            "|1587111210809442304|          vbl68|BRUTAL ATTACK (De...|      en|\n",
            "|         4002394887|        ibam_tr|News\\n\\nApproxima...|      en|\n",
            "|           19282353|           swon|Entering at day 2...|      en|\n",
            "+-------------------+---------------+--------------------+--------+\n",
            "only showing top 5 rows\n",
            "\n"
          ]
        },
        {
          "output_type": "execute_result",
          "data": {
            "text/plain": [
              "DataFrame[userid: string, username: string, text: string, language: string]"
            ]
          },
          "metadata": {},
          "execution_count": 39
        }
      ],
      "source": [
        "spark_en=spark.createDataFrame(ukraine_en) \n",
        "spark_en.createOrReplaceTempView(\"ukraine_en\")\n",
        "spark_en.show(5)\n",
        "spark_en.cache()\n"
      ]
    },
    {
      "cell_type": "code",
      "execution_count": null,
      "metadata": {
        "colab": {
          "base_uri": "https://localhost:8080/"
        },
        "id": "XI9v5lqG1Afb",
        "outputId": "4520077b-2da2-4550-926d-eebd11307d4d"
      },
      "outputs": [
        {
          "output_type": "stream",
          "name": "stdout",
          "text": [
            "+--------------------+\n",
            "|                text|\n",
            "+--------------------+\n",
            "|ICYMI: Oil prices...|\n",
            "|A global fertilis...|\n",
            "|BRUTAL ATTACK (De...|\n",
            "|News\\n\\nApproxima...|\n",
            "|Entering at day 2...|\n",
            "+--------------------+\n",
            "only showing top 5 rows\n",
            "\n"
          ]
        }
      ],
      "source": [
        "#selecting only text columns\n",
        "spark_en = spark_en.select(\"text\")\n",
        "spark_en.show(n = 5)\n",
        "     "
      ]
    },
    {
      "cell_type": "code",
      "execution_count": null,
      "metadata": {
        "colab": {
          "base_uri": "https://localhost:8080/"
        },
        "id": "wCEfbDrN6RhJ",
        "outputId": "5954a3cd-9fdf-4d7d-9197-1aabfbb4da00"
      },
      "outputs": [
        {
          "output_type": "stream",
          "name": "stdout",
          "text": [
            "+--------------------+\n",
            "|                text|\n",
            "+--------------------+\n",
            "|icymi oil prices ...|\n",
            "|a global fertilis...|\n",
            "|brutal attack dec...|\n",
            "|news\\n\\napproxima...|\n",
            "|entering at day 2...|\n",
            "+--------------------+\n",
            "only showing top 5 rows\n",
            "\n"
          ]
        }
      ],
      "source": [
        "#remove punctuation\n",
        "spark_en = spark_en.select(removePunctuation(col('text')).alias(\"text\"))\n",
        "spark_en.show(5)\n"
      ]
    },
    {
      "cell_type": "code",
      "execution_count": null,
      "metadata": {
        "colab": {
          "base_uri": "https://localhost:8080/"
        },
        "id": "0Cs36-ra6cQ3",
        "outputId": "c38b5129-396b-4461-9756-3a0aa1da22e5"
      },
      "outputs": [
        {
          "output_type": "stream",
          "name": "stdout",
          "text": [
            "+--------------------+--------------------+\n",
            "|                text|         words_token|\n",
            "+--------------------+--------------------+\n",
            "|icymi oil prices ...|[icymi, oil, pric...|\n",
            "|a global fertilis...|[a, global, ferti...|\n",
            "|brutal attack dec...|[brutal, attack, ...|\n",
            "|news\\n\\napproxima...|[news, , approxim...|\n",
            "|entering at day 2...|[entering, at, da...|\n",
            "+--------------------+--------------------+\n",
            "only showing top 5 rows\n",
            "\n"
          ]
        }
      ],
      "source": [
        "#tokenization\n",
        "tokenizer = Tokenizer(inputCol='text', outputCol='words_token')\n",
        "spark_en = spark_en.withColumn(\"text\", trim(col(\"text\")))\n",
        "spark_en = tokenizer.transform(spark_en)\n",
        "spark_en.show(5)\n"
      ]
    },
    {
      "cell_type": "code",
      "execution_count": null,
      "metadata": {
        "id": "Vy2eyomB-5XO"
      },
      "outputs": [],
      "source": [
        "#removing stop words\n",
        "remover = StopWordsRemover(stopWords=stopEN,inputCol='words_token', outputCol='tokenized')\n",
        "spark_en = remover.transform(spark_en).select(\"text\",'tokenized')"
      ]
    },
    {
      "cell_type": "code",
      "execution_count": null,
      "metadata": {
        "colab": {
          "base_uri": "https://localhost:8080/"
        },
        "id": "VShMPzDwAALx",
        "outputId": "d30e3ed9-ed90-4709-e0fe-434e7dcf9126"
      },
      "outputs": [
        {
          "output_type": "stream",
          "name": "stdout",
          "text": [
            "+--------------------+--------------------+\n",
            "|                text|           tokenized|\n",
            "+--------------------+--------------------+\n",
            "|icymi oil prices ...|[icymi, oil, pric...|\n",
            "|a global fertilis...|[global, fertilis...|\n",
            "|brutal attack dec...|[brutal, attack, ...|\n",
            "|news\\n\\napproxima...|[news, approximat...|\n",
            "|entering at day 2...|[entering, day, 2...|\n",
            "+--------------------+--------------------+\n",
            "only showing top 5 rows\n",
            "\n"
          ]
        }
      ],
      "source": [
        "#trim spaces\n",
        "spark_en = spark_en.withColumn(\"tokenized\", expr(\"filter(tokenized, elem -> elem != '')\"))\n",
        "spark_en.show(5)\n"
      ]
    },
    {
      "cell_type": "code",
      "execution_count": null,
      "metadata": {
        "colab": {
          "base_uri": "https://localhost:8080/"
        },
        "id": "_-QFKn4XAPfH",
        "outputId": "9692e219-2ed4-44e1-b8f6-d43300fa440f"
      },
      "outputs": [
        {
          "output_type": "stream",
          "name": "stdout",
          "text": [
            "+--------------------+--------------------+\n",
            "|                text|           tokenized|\n",
            "+--------------------+--------------------+\n",
            "|icymi oil prices ...|[opec, cap, russi...|\n",
            "|a global fertilis...|[new, invasion, b...|\n",
            "|brutal attack dec...|[dozens, bakhmut,...|\n",
            "|news\\n\\napproxima...|[forced, freezing...|\n",
            "|entering at day 2...|[invasion, since,...|\n",
            "+--------------------+--------------------+\n",
            "only showing top 5 rows\n",
            "\n"
          ]
        }
      ],
      "source": [
        "#for performing FPGrowth algorithm we need unique words in tokenized column\n",
        "get_uniques=udf(lambda x: list(set(x)), ArrayType(StringType()))\n",
        "\n",
        "spark_en = spark_en.withColumn(\"tokenized\", get_uniques(spark_en.tokenized))\n",
        "spark_en.show(5)\n",
        "\n"
      ]
    },
    {
      "cell_type": "code",
      "execution_count": null,
      "metadata": {
        "id": "kyIQzGEwBQdV"
      },
      "outputs": [],
      "source": [
        "#FP Growth algorithm for english data\n",
        "np.random.seed(1105)\n",
        "\n",
        "fpGrowth = FPGrowth(itemsCol=\"tokenized\", minSupport = 0.05)\n",
        "model = fpGrowth.fit(spark_en)\n",
        "association_rules = model.associationRules\n",
        "frequent_items = model.freqItemsets\n",
        "\n"
      ]
    },
    {
      "cell_type": "code",
      "execution_count": null,
      "metadata": {
        "colab": {
          "base_uri": "https://localhost:8080/"
        },
        "id": "7vNejA_QBQiv",
        "outputId": "d3042166-d7a7-4304-adad-82ca2bf4382d"
      },
      "outputs": [
        {
          "output_type": "stream",
          "name": "stdout",
          "text": [
            "+---------------------------+-----+\n",
            "|items                      |freq |\n",
            "+---------------------------+-----+\n",
            "|[ukraine]                  |57127|\n",
            "|[russia]                   |32070|\n",
            "|[russian]                  |27976|\n",
            "|[canada]                   |26219|\n",
            "|[germany]                  |23981|\n",
            "|[america]                  |20133|\n",
            "|[russian, ukraine]         |18447|\n",
            "|[bakhmut]                  |18274|\n",
            "|[bakhmut, ukraine]         |17152|\n",
            "|[germany, ukraine]         |17103|\n",
            "|[russia, ukraine]          |15729|\n",
            "|[ukrainian]                |15709|\n",
            "|[bakhmut, germany]         |15592|\n",
            "|[bakhmut, germany, ukraine]|15587|\n",
            "|[war]                      |15425|\n",
            "|[germany, canada]          |14262|\n",
            "|[canada, ukraine]          |14140|\n",
            "|[germany, canada, ukraine] |13874|\n",
            "|[america, ukraine]         |13492|\n",
            "|[bakhmut, canada]          |13348|\n",
            "+---------------------------+-----+\n",
            "only showing top 20 rows\n",
            "\n"
          ]
        }
      ],
      "source": [
        "frequent_items.orderBy(\"freq\",ascending=False).show(20,truncate=False)"
      ]
    },
    {
      "cell_type": "code",
      "execution_count": null,
      "metadata": {
        "id": "Zbxbv8wsVcfI"
      },
      "outputs": [],
      "source": [
        "frequentEN = ['ukraine','russia','russian','ukrainian','war','putin','ukrainerussiawar','russiaisaterroriststate','war']"
      ]
    },
    {
      "cell_type": "code",
      "execution_count": null,
      "metadata": {
        "id": "hVMq9rXCtNUr"
      },
      "outputs": [],
      "source": [
        "stopEN.extend(frequentEN)\n",
        "stopEN= list(dict.fromkeys(stopEN))"
      ]
    },
    {
      "cell_type": "code",
      "execution_count": null,
      "metadata": {
        "colab": {
          "base_uri": "https://localhost:8080/"
        },
        "id": "HNTIbf7PF5rH",
        "outputId": "ad433a3a-23f5-4b0a-9601-1a465877e302"
      },
      "outputs": [
        {
          "output_type": "stream",
          "name": "stdout",
          "text": [
            "+------------------------------------+----------+------------------+------------------+-------------------+\n",
            "|antecedent                          |consequent|confidence        |lift              |support            |\n",
            "+------------------------------------+----------+------------------+------------------+-------------------+\n",
            "|[bakhmut, america, germany, ukraine]|[canada]  |0.9993546305259762|6.0199065167859125|0.07841796751364148|\n",
            "|[germany, canada, russian, ukraine] |[bakhmut] |0.9615960099750623|8.315478874523786 |0.06102269993796448|\n",
            "|[germany, canada, russian, ukraine] |[america] |0.9287780548628429|7.291297740838978 |0.0589400787471356 |\n",
            "|[bakhmut, ukraine]                  |[germany] |0.9087569962686567|5.98615535520577  |0.09866813526276476|\n",
            "|[america, germany, canada]          |[bakhmut] |0.9623271710424111|8.321801648689174 |0.07842429766923671|\n",
            "|[america, germany, canada]          |[ukraine] |0.9981357775361193|2.759915657083437 |0.08134249939863522|\n",
            "|[bakhmut, germany, canada]          |[america] |0.928989202159568 |7.292955335782716 |0.07842429766923671|\n",
            "|[bakhmut, germany, canada]          |[ukraine] |0.9999250149970006|2.7648630245595496|0.08441262486231911|\n",
            "|[germany, canada, ukraine]          |[bakhmut] |0.9611503531786074|8.311625021515072 |0.08441262486231911|\n",
            "|[germany, canada, ukraine]          |[america] |0.9261928787660372|7.27100302291835  |0.08134249939863522|\n",
            "+------------------------------------+----------+------------------+------------------+-------------------+\n",
            "only showing top 10 rows\n",
            "\n"
          ]
        }
      ],
      "source": [
        "association_rules.show(10,truncate=False)"
      ]
    },
    {
      "cell_type": "code",
      "execution_count": null,
      "metadata": {
        "colab": {
          "base_uri": "https://localhost:8080/"
        },
        "id": "ZvXs3yoKFs_y",
        "outputId": "93cb83a5-d075-4cd3-a4c7-407ad199b1cd"
      },
      "outputs": [
        {
          "output_type": "execute_result",
          "data": {
            "text/plain": [
              "76"
            ]
          },
          "metadata": {},
          "execution_count": 51
        }
      ],
      "source": [
        "frequent_items.count()\n"
      ]
    },
    {
      "cell_type": "code",
      "execution_count": null,
      "metadata": {
        "colab": {
          "base_uri": "https://localhost:8080/"
        },
        "id": "16ca2APd4CKS",
        "outputId": "0154be1a-630b-49eb-926b-05ed5c6d880a"
      },
      "outputs": [
        {
          "output_type": "stream",
          "name": "stdout",
          "text": [
            "+--------------------+--------------------+\n",
            "|                text|          tokenized2|\n",
            "+--------------------+--------------------+\n",
            "|icymi oil prices ...|[opec, cap, start...|\n",
            "|a global fertilis...|[new, invasion, b...|\n",
            "|brutal attack dec...|[bakhmut, 32, can...|\n",
            "|news\\n\\napproxima...|[forced, freezing...|\n",
            "|entering at day 2...|[invasion, since,...|\n",
            "+--------------------+--------------------+\n",
            "only showing top 5 rows\n",
            "\n"
          ]
        }
      ],
      "source": [
        "#performing FP-algorithm the second time\n",
        "\n",
        "#tokenization\n",
        "tokenizer = Tokenizer(inputCol='text', outputCol='words_token')\n",
        "spark_en = spark_en.withColumn(\"text\", trim(col(\"text\")))\n",
        "spark_en = tokenizer.transform(spark_en)\n",
        "\n",
        "#stop-words removal\n",
        "remover = StopWordsRemover(stopWords=stopEN,inputCol='words_token', outputCol='tokenized2')\n",
        "spark_en = remover.transform(spark_en).select(\"text\",'tokenized2')\n",
        "\n",
        "#trim spaces\n",
        "spark_en = spark_en.withColumn(\"tokenized2\", expr(\"filter(tokenized2, elem -> elem != '')\"))\n",
        "\n",
        "#for performing FPGrowth algorithm we need unique words in tokenized column\n",
        "get_uniques=udf(lambda x: list(set(x)), ArrayType(StringType()))\n",
        "\n",
        "spark_en = spark_en.withColumn(\"tokenized2\", get_uniques(spark_en.tokenized2))\n",
        "spark_en.show(5)\n"
      ]
    },
    {
      "cell_type": "code",
      "execution_count": null,
      "metadata": {
        "id": "tE0G_4wj4tys"
      },
      "outputs": [],
      "source": [
        "#FP Growth algorithm for english data\n",
        "np.random.seed(1105)\n",
        "\n",
        "fpGrowth = FPGrowth(itemsCol=\"tokenized2\", minSupport = 0.05)\n",
        "model = fpGrowth.fit(spark_en)\n",
        "association_rules = model.associationRules\n",
        "frequent_items = model.freqItemsets\n",
        "\n"
      ]
    },
    {
      "cell_type": "code",
      "execution_count": null,
      "metadata": {
        "colab": {
          "base_uri": "https://localhost:8080/"
        },
        "id": "SQlLO6h46nwq",
        "outputId": "6f3619c7-3780-4902-9b49-c5c0bed13ac4"
      },
      "outputs": [
        {
          "output_type": "stream",
          "name": "stdout",
          "text": [
            "+-----------------------------------+-----+\n",
            "|items                              |freq |\n",
            "+-----------------------------------+-----+\n",
            "|[canada]                           |26225|\n",
            "|[germany]                          |23981|\n",
            "|[america]                          |20122|\n",
            "|[bakhmut]                          |18283|\n",
            "|[bakhmut, germany]                 |15593|\n",
            "|[germany, canada]                  |14266|\n",
            "|[bakhmut, canada]                  |13359|\n",
            "|[bakhmut, germany, canada]         |13341|\n",
            "|[america, canada]                  |13017|\n",
            "|[america, germany]                 |12968|\n",
            "|[america, germany, canada]         |12865|\n",
            "|[bakhmut, america]                 |12519|\n",
            "|[bakhmut, america, germany]        |12396|\n",
            "|[bakhmut, america, canada]         |12391|\n",
            "|[bakhmut, america, germany, canada]|12385|\n",
            "|[brittneygriner]                   |11545|\n",
            "|[amp]                              |9678 |\n",
            "|[us]                               |8551 |\n",
            "+-----------------------------------+-----+\n",
            "\n"
          ]
        }
      ],
      "source": [
        "frequent_items.orderBy(\"freq\",ascending=False).show(20,truncate=False)"
      ]
    },
    {
      "cell_type": "markdown",
      "metadata": {
        "id": "MxFk_N5k8gqC"
      },
      "source": [
        "#####Scalability study"
      ]
    },
    {
      "cell_type": "code",
      "execution_count": null,
      "metadata": {
        "colab": {
          "base_uri": "https://localhost:8080/"
        },
        "id": "kSPOFpqoG0uQ",
        "outputId": "8bf41c3a-8a94-4df9-c018-b16aa42bc2cc"
      },
      "outputs": [
        {
          "output_type": "stream",
          "name": "stderr",
          "text": [
            "100%|██████████| 10/10 [01:24<00:00,  8.49s/it]\n"
          ]
        }
      ],
      "source": [
        "np.random.seed(1105)\n",
        "# Create different partitions of the timesample\n",
        "\n",
        "size_sample = np.arange(0.1, 1.1, step=0.1)\n",
        "fpgrowth_comp_time_size = {}\n",
        "for size in tqdm(size_sample):\n",
        "    # extract a subset of the dataframe\n",
        "    df_partial = spark_en.sample(False, size, seed = 1)\n",
        "    fpGrowth = FPGrowth(itemsCol = 'tokenized2', minSupport = 0.05)\n",
        "    start_time = time.time()\n",
        "    model = fpGrowth.fit(df_partial)   \n",
        "    fpgrowth_comp_time_size[size] = time.time() - start_time\n",
        "\n"
      ]
    },
    {
      "cell_type": "code",
      "execution_count": null,
      "metadata": {
        "colab": {
          "base_uri": "https://localhost:8080/"
        },
        "id": "g_RR7AjANqSB",
        "outputId": "c6c4b69d-7d20-4a01-8137-d4776292b3b7"
      },
      "outputs": [
        {
          "output_type": "execute_result",
          "data": {
            "text/plain": [
              "{0.1: 7.014691114425659,\n",
              " 0.2: 7.907519578933716,\n",
              " 0.30000000000000004: 7.868285655975342,\n",
              " 0.4: 8.32412338256836,\n",
              " 0.5: 8.332984209060669,\n",
              " 0.6: 8.644070386886597,\n",
              " 0.7000000000000001: 8.631410598754883,\n",
              " 0.8: 9.050065040588379,\n",
              " 0.9: 9.267596244812012,\n",
              " 1.0: 9.713839292526245}"
            ]
          },
          "metadata": {},
          "execution_count": 57
        }
      ],
      "source": [
        "fpgrowth_comp_time_size"
      ]
    },
    {
      "cell_type": "code",
      "execution_count": null,
      "metadata": {
        "colab": {
          "base_uri": "https://localhost:8080/",
          "height": 363
        },
        "id": "Lx30861SR6DU",
        "outputId": "d99ea42b-ce96-4720-f2bb-d8e40d6889c1"
      },
      "outputs": [
        {
          "output_type": "execute_result",
          "data": {
            "text/plain": [
              "   Dataset Fraction  Computation time\n",
              "0               0.1          7.014691\n",
              "1               0.2          7.907520\n",
              "2               0.3          7.868286\n",
              "3               0.4          8.324123\n",
              "4               0.5          8.332984\n",
              "5               0.6          8.644070\n",
              "6               0.7          8.631411\n",
              "7               0.8          9.050065\n",
              "8               0.9          9.267596\n",
              "9               1.0          9.713839"
            ],
            "text/html": [
              "\n",
              "  <div id=\"df-03bde09c-a64f-49be-a9a9-51632728efbd\">\n",
              "    <div class=\"colab-df-container\">\n",
              "      <div>\n",
              "<style scoped>\n",
              "    .dataframe tbody tr th:only-of-type {\n",
              "        vertical-align: middle;\n",
              "    }\n",
              "\n",
              "    .dataframe tbody tr th {\n",
              "        vertical-align: top;\n",
              "    }\n",
              "\n",
              "    .dataframe thead th {\n",
              "        text-align: right;\n",
              "    }\n",
              "</style>\n",
              "<table border=\"1\" class=\"dataframe\">\n",
              "  <thead>\n",
              "    <tr style=\"text-align: right;\">\n",
              "      <th></th>\n",
              "      <th>Dataset Fraction</th>\n",
              "      <th>Computation time</th>\n",
              "    </tr>\n",
              "  </thead>\n",
              "  <tbody>\n",
              "    <tr>\n",
              "      <th>0</th>\n",
              "      <td>0.1</td>\n",
              "      <td>7.014691</td>\n",
              "    </tr>\n",
              "    <tr>\n",
              "      <th>1</th>\n",
              "      <td>0.2</td>\n",
              "      <td>7.907520</td>\n",
              "    </tr>\n",
              "    <tr>\n",
              "      <th>2</th>\n",
              "      <td>0.3</td>\n",
              "      <td>7.868286</td>\n",
              "    </tr>\n",
              "    <tr>\n",
              "      <th>3</th>\n",
              "      <td>0.4</td>\n",
              "      <td>8.324123</td>\n",
              "    </tr>\n",
              "    <tr>\n",
              "      <th>4</th>\n",
              "      <td>0.5</td>\n",
              "      <td>8.332984</td>\n",
              "    </tr>\n",
              "    <tr>\n",
              "      <th>5</th>\n",
              "      <td>0.6</td>\n",
              "      <td>8.644070</td>\n",
              "    </tr>\n",
              "    <tr>\n",
              "      <th>6</th>\n",
              "      <td>0.7</td>\n",
              "      <td>8.631411</td>\n",
              "    </tr>\n",
              "    <tr>\n",
              "      <th>7</th>\n",
              "      <td>0.8</td>\n",
              "      <td>9.050065</td>\n",
              "    </tr>\n",
              "    <tr>\n",
              "      <th>8</th>\n",
              "      <td>0.9</td>\n",
              "      <td>9.267596</td>\n",
              "    </tr>\n",
              "    <tr>\n",
              "      <th>9</th>\n",
              "      <td>1.0</td>\n",
              "      <td>9.713839</td>\n",
              "    </tr>\n",
              "  </tbody>\n",
              "</table>\n",
              "</div>\n",
              "      <button class=\"colab-df-convert\" onclick=\"convertToInteractive('df-03bde09c-a64f-49be-a9a9-51632728efbd')\"\n",
              "              title=\"Convert this dataframe to an interactive table.\"\n",
              "              style=\"display:none;\">\n",
              "        \n",
              "  <svg xmlns=\"http://www.w3.org/2000/svg\" height=\"24px\"viewBox=\"0 0 24 24\"\n",
              "       width=\"24px\">\n",
              "    <path d=\"M0 0h24v24H0V0z\" fill=\"none\"/>\n",
              "    <path d=\"M18.56 5.44l.94 2.06.94-2.06 2.06-.94-2.06-.94-.94-2.06-.94 2.06-2.06.94zm-11 1L8.5 8.5l.94-2.06 2.06-.94-2.06-.94L8.5 2.5l-.94 2.06-2.06.94zm10 10l.94 2.06.94-2.06 2.06-.94-2.06-.94-.94-2.06-.94 2.06-2.06.94z\"/><path d=\"M17.41 7.96l-1.37-1.37c-.4-.4-.92-.59-1.43-.59-.52 0-1.04.2-1.43.59L10.3 9.45l-7.72 7.72c-.78.78-.78 2.05 0 2.83L4 21.41c.39.39.9.59 1.41.59.51 0 1.02-.2 1.41-.59l7.78-7.78 2.81-2.81c.8-.78.8-2.07 0-2.86zM5.41 20L4 18.59l7.72-7.72 1.47 1.35L5.41 20z\"/>\n",
              "  </svg>\n",
              "      </button>\n",
              "      \n",
              "  <style>\n",
              "    .colab-df-container {\n",
              "      display:flex;\n",
              "      flex-wrap:wrap;\n",
              "      gap: 12px;\n",
              "    }\n",
              "\n",
              "    .colab-df-convert {\n",
              "      background-color: #E8F0FE;\n",
              "      border: none;\n",
              "      border-radius: 50%;\n",
              "      cursor: pointer;\n",
              "      display: none;\n",
              "      fill: #1967D2;\n",
              "      height: 32px;\n",
              "      padding: 0 0 0 0;\n",
              "      width: 32px;\n",
              "    }\n",
              "\n",
              "    .colab-df-convert:hover {\n",
              "      background-color: #E2EBFA;\n",
              "      box-shadow: 0px 1px 2px rgba(60, 64, 67, 0.3), 0px 1px 3px 1px rgba(60, 64, 67, 0.15);\n",
              "      fill: #174EA6;\n",
              "    }\n",
              "\n",
              "    [theme=dark] .colab-df-convert {\n",
              "      background-color: #3B4455;\n",
              "      fill: #D2E3FC;\n",
              "    }\n",
              "\n",
              "    [theme=dark] .colab-df-convert:hover {\n",
              "      background-color: #434B5C;\n",
              "      box-shadow: 0px 1px 3px 1px rgba(0, 0, 0, 0.15);\n",
              "      filter: drop-shadow(0px 1px 2px rgba(0, 0, 0, 0.3));\n",
              "      fill: #FFFFFF;\n",
              "    }\n",
              "  </style>\n",
              "\n",
              "      <script>\n",
              "        const buttonEl =\n",
              "          document.querySelector('#df-03bde09c-a64f-49be-a9a9-51632728efbd button.colab-df-convert');\n",
              "        buttonEl.style.display =\n",
              "          google.colab.kernel.accessAllowed ? 'block' : 'none';\n",
              "\n",
              "        async function convertToInteractive(key) {\n",
              "          const element = document.querySelector('#df-03bde09c-a64f-49be-a9a9-51632728efbd');\n",
              "          const dataTable =\n",
              "            await google.colab.kernel.invokeFunction('convertToInteractive',\n",
              "                                                     [key], {});\n",
              "          if (!dataTable) return;\n",
              "\n",
              "          const docLinkHtml = 'Like what you see? Visit the ' +\n",
              "            '<a target=\"_blank\" href=https://colab.research.google.com/notebooks/data_table.ipynb>data table notebook</a>'\n",
              "            + ' to learn more about interactive tables.';\n",
              "          element.innerHTML = '';\n",
              "          dataTable['output_type'] = 'display_data';\n",
              "          await google.colab.output.renderOutput(dataTable, element);\n",
              "          const docLink = document.createElement('div');\n",
              "          docLink.innerHTML = docLinkHtml;\n",
              "          element.appendChild(docLink);\n",
              "        }\n",
              "      </script>\n",
              "    </div>\n",
              "  </div>\n",
              "  "
            ]
          },
          "metadata": {},
          "execution_count": 58
        }
      ],
      "source": [
        "graph1 = pd.DataFrame.from_dict(fpgrowth_comp_time_size, orient='index')\n",
        "graph1 =graph1.reset_index()\n",
        "graph1.columns = ['Dataset Fraction', 'Computation time']\n",
        "graph1"
      ]
    },
    {
      "cell_type": "code",
      "execution_count": null,
      "metadata": {
        "id": "pXvtVGukHJzm"
      },
      "outputs": [],
      "source": [
        "graph1[\"Dataset Fraction\"] = pd.to_numeric(graph1[\"Dataset Fraction\"])\n",
        "graph1[\"Computation time\"] = pd.to_numeric(graph1[\"Computation time\"])\n"
      ]
    },
    {
      "cell_type": "code",
      "execution_count": null,
      "metadata": {
        "colab": {
          "base_uri": "https://localhost:8080/",
          "height": 448
        },
        "id": "h6Jg40wDHJ4M",
        "outputId": "cf49aa29-5e67-46fa-921b-8081a9452b7c"
      },
      "outputs": [
        {
          "output_type": "execute_result",
          "data": {
            "text/plain": [
              "Text(0, 0.5, 'Seconds')"
            ]
          },
          "metadata": {},
          "execution_count": 61
        },
        {
          "output_type": "display_data",
          "data": {
            "text/plain": [
              "<Figure size 720x432 with 1 Axes>"
            ],
            "image/png": "[encoded data removed]"
          },
          "metadata": {
            "needs_background": "light"
          }
        }
      ],
      "source": [
        "%matplotlib inline\n",
        "import matplotlib.pyplot as plt\n",
        "plt.rcParams[\"figure.figsize\"] = [10,6]\n",
        "\n",
        "fig = plt.figure()\n",
        "plt.plot(graph1[\"Dataset Fraction\"],graph1[\"Computation time\"], c='purple')\n",
        "fig.suptitle('Dataset fraction vs Computation time in seconds')\n",
        "plt.xlabel('Fraction of dataset used')\n",
        "plt.ylabel('Seconds')\n"
      ]
    },
    {
      "cell_type": "code",
      "execution_count": null,
      "metadata": {
        "colab": {
          "base_uri": "https://localhost:8080/"
        },
        "id": "vFH0ezbS-Yhu",
        "outputId": "4ef01828-6917-46fa-96d6-ac53de04dbaa"
      },
      "outputs": [
        {
          "output_type": "execute_result",
          "data": {
            "text/plain": [
              "157974"
            ]
          },
          "metadata": {},
          "execution_count": 62
        }
      ],
      "source": [
        "ukraine_en.shape[0]"
      ]
    },
    {
      "cell_type": "code",
      "execution_count": null,
      "metadata": {
        "colab": {
          "base_uri": "https://localhost:8080/"
        },
        "id": "5vla2z3H7f9G",
        "outputId": "31674bd0-ac57-452b-98b2-1ee1497a2cfb"
      },
      "outputs": [
        {
          "output_type": "stream",
          "name": "stdout",
          "text": [
            "1 degree polynomial: 0:01:46.394459\n",
            "2 degree polynomial: -1 day, 23:52:13.565831\n",
            "3 degree polynomial: 5 days, 11:23:00.661171\n",
            "4 degree polynomial: 427 days, 4:39:59.459382\n"
          ]
        }
      ],
      "source": [
        "# predicting time required \n",
        "x = np.array(graph1['Dataset Fraction']*ukraine_en.shape[0])\n",
        "x = x.reshape(-1, 1)\n",
        "for deg in [1,2,3,4]:\n",
        "# Fitting Polynomial Regression to the dataset\n",
        "  poly_reg = PolynomialFeatures(degree=deg)\n",
        "  X_poly = poly_reg.fit_transform(x)\n",
        "  pol_reg = LinearRegression()\n",
        "  pol_reg.fit(X_poly, graph1['Computation time'])\n",
        "# Predicting with Polymonial Regression\n",
        "  prediction = pol_reg.predict(poly_reg.fit_transform([[ukraine_en.shape[0]*40]]))\n",
        "# print(prediction[0])\n",
        "  time_required = datetime.timedelta(seconds=prediction[0])\n",
        "  print(str(deg) + str (' degree polynomial: ')+ str(time_required))"
      ]
    },
    {
      "cell_type": "code",
      "execution_count": null,
      "metadata": {
        "colab": {
          "base_uri": "https://localhost:8080/"
        },
        "id": "drqftn76Ny7X",
        "outputId": "05addb9b-fcb3-4e23-a398-b8c95cbaba69"
      },
      "outputs": [
        {
          "output_type": "stream",
          "name": "stderr",
          "text": [
            "100%|██████████| 8/8 [02:03<00:00, 15.40s/it]\n"
          ]
        }
      ],
      "source": [
        "np.random.seed(1105)\n",
        "# Try different thresholds for minimum support \n",
        "thresholds = [0.005, 0.01, 0.02, 0.04, 0.05, 0.06, 0.08, 0.1]\n",
        "fpgrowth_comp_time_threshold = {}\n",
        "\n",
        "for thres in tqdm( thresholds ):\n",
        "  fpGrowth = FPGrowth(itemsCol=\"tokenized2\", minSupport = thres)\n",
        "\n",
        "  # compute time difference\n",
        "  start_time = time.time()\n",
        "  model = fpGrowth.fit(spark_en)\n",
        "\n",
        "  fpgrowth_comp_time_threshold[thres] = time.time() - start_time\n"
      ]
    },
    {
      "cell_type": "code",
      "execution_count": null,
      "metadata": {
        "colab": {
          "base_uri": "https://localhost:8080/"
        },
        "id": "zYs0o92kQFns",
        "outputId": "adcfac1a-3876-4868-f716-b53b0e8102f1"
      },
      "outputs": [
        {
          "output_type": "execute_result",
          "data": {
            "text/plain": [
              "{0.005: 15.125239610671997,\n",
              " 0.01: 15.563227653503418,\n",
              " 0.02: 15.706894636154175,\n",
              " 0.04: 14.946529626846313,\n",
              " 0.05: 15.09436821937561,\n",
              " 0.06: 15.33593487739563,\n",
              " 0.08: 15.575499057769775,\n",
              " 0.1: 15.751986742019653}"
            ]
          },
          "metadata": {},
          "execution_count": 65
        }
      ],
      "source": [
        "fpgrowth_comp_time_threshold"
      ]
    },
    {
      "cell_type": "code",
      "execution_count": null,
      "metadata": {
        "id": "1suuKenHRIca"
      },
      "outputs": [],
      "source": [
        "graph2 = pd.DataFrame.from_dict(fpgrowth_comp_time_threshold, orient='index')\n",
        "graph2 =graph2.reset_index()\n",
        "graph2.columns = ['Minimum Support', 'Computation Time']\n",
        "graph2\n",
        "graph2[\"Minimum Support\"] = pd.to_numeric(graph2[\"Minimum Support\"])\n",
        "graph2[\"Computation Time\"] = pd.to_numeric(graph2[\"Computation Time\"])\n"
      ]
    },
    {
      "cell_type": "code",
      "execution_count": null,
      "metadata": {
        "colab": {
          "base_uri": "https://localhost:8080/",
          "height": 448
        },
        "id": "zYmWBmK4Regd",
        "outputId": "65521c28-be04-455d-ba27-01b880c3950e"
      },
      "outputs": [
        {
          "output_type": "execute_result",
          "data": {
            "text/plain": [
              "Text(0, 0.5, 'Seconds')"
            ]
          },
          "metadata": {},
          "execution_count": 72
        },
        {
          "output_type": "display_data",
          "data": {
            "text/plain": [
              "<Figure size 720x432 with 1 Axes>"
            ],
            "image/png": "[encoded data removed]"
          },
          "metadata": {
            "needs_background": "light"
          }
        }
      ],
      "source": [
        "%matplotlib inline\n",
        "import matplotlib.pyplot as plt\n",
        "plt.rcParams[\"figure.figsize\"] = [10,6]\n",
        "\n",
        "fig = plt.figure()\n",
        "plt.plot(graph2[\"Minimum Support\"],graph2[\"Computation Time\"],c='green')\n",
        "fig.suptitle('Minimum Support vs Computation time in seconds')\n",
        "plt.axis([0,0.1, 0, 20])\n",
        "plt.xlabel('Minimum Support')\n",
        "plt.ylabel('Seconds')\n"
      ]
    },
    {
      "cell_type": "code",
      "execution_count": null,
      "metadata": {
        "id": "actqX77dSJW7"
      },
      "outputs": [],
      "source": []
    }
  ],
  "metadata": {
    "colab": {
      "provenance": [],
      "include_colab_link": true
    },
    "kernelspec": {
      "display_name": "Python 3",
      "name": "python3"
    },
    "language_info": {
      "name": "python"
    }
  },
  "nbformat": 4,
  "nbformat_minor": 0
}